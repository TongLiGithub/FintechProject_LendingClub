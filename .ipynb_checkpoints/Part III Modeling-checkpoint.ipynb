{
 "cells": [
  {
   "cell_type": "code",
   "execution_count": 158,
   "metadata": {},
   "outputs": [],
   "source": [
    "import pandas as pd\n",
    "import numpy as np\n",
    "import matplotlib.pyplot as plt\n",
    "%matplotlib inline\n",
    "import xgboost as xgb\n",
    "import seaborn as sns"
   ]
  },
  {
   "cell_type": "markdown",
   "metadata": {},
   "source": [
    "## Load Data"
   ]
  },
  {
   "cell_type": "code",
   "execution_count": 20,
   "metadata": {},
   "outputs": [
    {
     "name": "stderr",
     "output_type": "stream",
     "text": [
      "C:\\Users\\Tong\\Anaconda2\\envs\\py36\\lib\\site-packages\\IPython\\core\\interactiveshell.py:2728: DtypeWarning: Columns (7,29) have mixed types. Specify dtype option on import or set low_memory=False.\n",
      "  interactivity=interactivity, compiler=compiler, result=result)\n"
     ]
    }
   ],
   "source": [
    "df1 = pd.read_csv('loan_2014.csv')"
   ]
  },
  {
   "cell_type": "code",
   "execution_count": 21,
   "metadata": {},
   "outputs": [
    {
     "data": {
      "text/plain": [
       "(235631, 105)"
      ]
     },
     "execution_count": 21,
     "metadata": {},
     "output_type": "execute_result"
    }
   ],
   "source": [
    "df1.shape"
   ]
  },
  {
   "cell_type": "code",
   "execution_count": 4,
   "metadata": {},
   "outputs": [
    {
     "name": "stdout",
     "output_type": "stream",
     "text": [
      "<class 'pandas.core.frame.DataFrame'>\n",
      "RangeIndex: 235631 entries, 0 to 235630\n",
      "Columns: 105 entries, percentbcgt75 to loanstatus\n",
      "dtypes: float64(85), object(20)\n",
      "memory usage: 188.8+ MB\n"
     ]
    }
   ],
   "source": [
    "df1.info()"
   ]
  },
  {
   "cell_type": "markdown",
   "metadata": {},
   "source": [
    "## Select Data"
   ]
  },
  {
   "cell_type": "code",
   "execution_count": 5,
   "metadata": {},
   "outputs": [
    {
     "data": {
      "text/plain": [
       "percentbcgt75                 233072\n",
       "emptitle                      222393\n",
       "mthssincerecentrevoldelinq     84766\n",
       "verificationstatusjoint            0\n",
       "mthssincercntil                    0\n",
       "openactil                          0\n",
       "loanamnt                      235629\n",
       "desc                           15279\n",
       "collections12mthsexmed        235629\n",
       "pubrecbankruptcies            235629\n",
       "numactvrevtl                  235629\n",
       "memberid                           0\n",
       "term                          235629\n",
       "taxliens                      235629\n",
       "totalcutl                          0\n",
       "numiltl                       235629\n",
       "secappopenactil                    0\n",
       "totalrevhilim                 235629\n",
       "delinq2yrs                    235629\n",
       "accnowdelinq                  235629\n",
       "allutil                            0\n",
       "avgcurbal                     235623\n",
       "dti                           235629\n",
       "accopenpast24mths             235629\n",
       "numbctl                       235629\n",
       "numtl120dpd2m                 227769\n",
       "revolbal                      235629\n",
       "totcurbal                     235629\n",
       "totalacc                      235629\n",
       "id                                 2\n",
       "                               ...  \n",
       "openil24m                          0\n",
       "secappearliestcrline               0\n",
       "pcttlnvrdlq                   235629\n",
       "installment                   235629\n",
       "mortacc                       235629\n",
       "numactvbctl                   235629\n",
       "annualincjoint                     0\n",
       "dtijoint                           0\n",
       "openil12m                          0\n",
       "mosinoldrevtlop               235629\n",
       "subgrade                      235629\n",
       "numrevaccts                   235629\n",
       "earliestcrline                235629\n",
       "mthssincelastrecord            41524\n",
       "purpose                       235629\n",
       "pubrec                        235629\n",
       "inqfi                              0\n",
       "bcopentobuy                   233184\n",
       "ilutil                             0\n",
       "totalbalil                         0\n",
       "totcollamt                    235629\n",
       "inqlast6mths                  235629\n",
       "totalilhighcreditlimit        235629\n",
       "annualinc                     235629\n",
       "bcutil                        233018\n",
       "openrv24m                          0\n",
       "numoprevtl                    235629\n",
       "verificationstatus            235629\n",
       "issued                        235629\n",
       "loanstatus                    235629\n",
       "Length: 105, dtype: int64"
      ]
     },
     "execution_count": 5,
     "metadata": {},
     "output_type": "execute_result"
    }
   ],
   "source": [
    "df1.count()"
   ]
  },
  {
   "cell_type": "code",
   "execution_count": 63,
   "metadata": {},
   "outputs": [],
   "source": [
    "# get all_null_feature from EDA\n",
    "all_null_feature = ['verificationstatusjoint',\n",
    " 'mthssincercntil',\n",
    " 'openactil',\n",
    " 'memberid',\n",
    " 'totalcutl',\n",
    " 'secappopenactil',\n",
    " 'allutil',\n",
    " 'secappinqlast6mths',\n",
    " 'secappchargeoffwithin12mths',\n",
    " 'secapprevolutil',\n",
    " 'inqlast12m',\n",
    " 'secappmortacc',\n",
    " 'openrv12m',\n",
    " 'secappcollections12mthsexmed',\n",
    " 'openacc6m',\n",
    " 'secappopenacc',\n",
    " 'revolbaljoint',\n",
    " 'secappnumrevaccts',\n",
    " 'secappmthssincelastmajorderog',\n",
    " 'maxbalbc',\n",
    " 'openil24m',\n",
    " 'secappearliestcrline',\n",
    " 'annualincjoint',\n",
    " 'dtijoint',\n",
    " 'openil12m',\n",
    " 'inqfi',\n",
    " 'ilutil',\n",
    " 'totalbalil',\n",
    " 'openrv24m']"
   ]
  },
  {
   "cell_type": "code",
   "execution_count": 64,
   "metadata": {},
   "outputs": [],
   "source": [
    "cat_feature = ['emptitle',\n",
    " 'desc',\n",
    " 'term',\n",
    " 'id',\n",
    " 'zipcode',\n",
    " 'intrate',\n",
    " 'initialliststatus',\n",
    " 'homeownership',\n",
    " 'grade',\n",
    " 'revolutil',\n",
    " 'applicationtype',\n",
    " 'emplength',\n",
    " 'addrstate',\n",
    " 'disbursementmethod',\n",
    " 'subgrade',\n",
    " 'earliestcrline',\n",
    " 'purpose',\n",
    " 'verificationstatus',\n",
    " 'issued',\n",
    " 'loanstatus']"
   ]
  },
  {
   "cell_type": "code",
   "execution_count": 65,
   "metadata": {},
   "outputs": [],
   "source": [
    "num_feature = ['percentbcgt75',\n",
    " 'mthssincerecentrevoldelinq',\n",
    " 'loanamnt',\n",
    " 'collections12mthsexmed',\n",
    " 'pubrecbankruptcies',\n",
    " 'numactvrevtl',\n",
    " 'taxliens',\n",
    " 'numiltl',\n",
    " 'totalrevhilim',\n",
    " 'delinq2yrs',\n",
    " 'accnowdelinq',\n",
    " 'avgcurbal',\n",
    " 'dti',\n",
    " 'accopenpast24mths',\n",
    " 'numbctl',\n",
    " 'numtl120dpd2m',\n",
    " 'revolbal',\n",
    " 'totcurbal',\n",
    " 'totalacc',\n",
    " 'openacc',\n",
    " 'fundedamnt',\n",
    " 'tothicredlim',\n",
    " 'numsats',\n",
    " 'mosinoldilacct',\n",
    " 'mthssincelastdelinq',\n",
    " 'delinqamnt',\n",
    " 'totalbclimit',\n",
    " 'chargeoffwithin12mths',\n",
    " 'mthssincerecentinq',\n",
    " 'numrevtlbalgt0',\n",
    " 'numtl90gdpd24m',\n",
    " 'mthssincelastmajorderog',\n",
    " 'mthssincerecentbc',\n",
    " 'totalbalexmort',\n",
    " 'numacctsever120pd',\n",
    " 'mosinrcntrevtlop',\n",
    " 'mthssincerecentbcdlq',\n",
    " 'numtl30dpd',\n",
    " 'numtloppast12m',\n",
    " 'mosinrcnttl',\n",
    " 'numbcsats',\n",
    " 'pcttlnvrdlq',\n",
    " 'installment',\n",
    " 'mortacc',\n",
    " 'numactvbctl',\n",
    " 'mosinoldrevtlop',\n",
    " 'numrevaccts',\n",
    " 'mthssincelastrecord',\n",
    " 'pubrec',\n",
    " 'bcopentobuy',\n",
    " 'totcollamt',\n",
    " 'inqlast6mths',\n",
    " 'totalilhighcreditlimit',\n",
    " 'annualinc',\n",
    " 'bcutil',\n",
    " 'numoprevtl']"
   ]
  },
  {
   "cell_type": "code",
   "execution_count": 66,
   "metadata": {},
   "outputs": [
    {
     "data": {
      "text/plain": [
       "76"
      ]
     },
     "execution_count": 66,
     "metadata": {},
     "output_type": "execute_result"
    }
   ],
   "source": [
    "select_feature=cat_feature+num_feature\n",
    "len(select_feature)"
   ]
  },
  {
   "cell_type": "code",
   "execution_count": 67,
   "metadata": {},
   "outputs": [],
   "source": [
    "# remove applicationtype since it only has one value as 'individual'\n",
    "# remove disbursementmethod since it only has one value as 'cash'\n",
    "\n",
    "cat_feature.remove('applicationtype')\n",
    "cat_feature.remove('disbursementmethod')"
   ]
  },
  {
   "cell_type": "code",
   "execution_count": 68,
   "metadata": {},
   "outputs": [],
   "source": [
    "# remove fundedamnt since it always equals to 1 for issued loans and varied during different time of a current loan\n",
    "\n",
    "num_feature.remove('fundedamnt')"
   ]
  },
  {
   "cell_type": "code",
   "execution_count": 69,
   "metadata": {},
   "outputs": [],
   "source": [
    "# remove 'id','issued' and 'loanstatus' from ob_feature, since they are index, train/test flag and target\n",
    "cat_feature.remove('id')\n",
    "cat_feature.remove('loanstatus')\n",
    "cat_feature.remove('issued')"
   ]
  },
  {
   "cell_type": "code",
   "execution_count": 70,
   "metadata": {},
   "outputs": [],
   "source": [
    "# remove 'desc' from ob_feature and select_feature\n",
    "cat_feature.remove('desc')"
   ]
  },
  {
   "cell_type": "code",
   "execution_count": 71,
   "metadata": {},
   "outputs": [
    {
     "data": {
      "text/plain": [
       "69"
      ]
     },
     "execution_count": 71,
     "metadata": {},
     "output_type": "execute_result"
    }
   ],
   "source": [
    "select_feature=cat_feature+num_feature\n",
    "len(select_feature)"
   ]
  },
  {
   "cell_type": "code",
   "execution_count": 72,
   "metadata": {},
   "outputs": [],
   "source": [
    "# selected features left and delete the last two rows\n",
    "df=df1[select_feature+['loanstatus','issued']][:-2]"
   ]
  },
  {
   "cell_type": "code",
   "execution_count": 73,
   "metadata": {},
   "outputs": [
    {
     "data": {
      "text/plain": [
       "(235629, 71)"
      ]
     },
     "execution_count": 73,
     "metadata": {},
     "output_type": "execute_result"
    }
   ],
   "source": [
    "df.shape"
   ]
  },
  {
   "cell_type": "markdown",
   "metadata": {},
   "source": [
    "## only use term=36 months and loanstatus = fully paid and charged off"
   ]
  },
  {
   "cell_type": "code",
   "execution_count": 74,
   "metadata": {},
   "outputs": [],
   "source": [
    "df = df.query(\"loanstatus == 'Fully Paid' or loanstatus == 'Charged Off' \")"
   ]
  },
  {
   "cell_type": "code",
   "execution_count": 75,
   "metadata": {},
   "outputs": [],
   "source": [
    "df = df.query(\"term ==' 36 months'\")"
   ]
  },
  {
   "cell_type": "code",
   "execution_count": 76,
   "metadata": {},
   "outputs": [
    {
     "data": {
      "text/plain": [
       "(162474, 71)"
      ]
     },
     "execution_count": 76,
     "metadata": {},
     "output_type": "execute_result"
    }
   ],
   "source": [
    "df.shape"
   ]
  },
  {
   "cell_type": "code",
   "execution_count": 77,
   "metadata": {},
   "outputs": [],
   "source": [
    "cat_feature.remove('term')"
   ]
  },
  {
   "cell_type": "markdown",
   "metadata": {},
   "source": [
    "## Label Target"
   ]
  },
  {
   "cell_type": "code",
   "execution_count": 78,
   "metadata": {},
   "outputs": [],
   "source": [
    "df['loanstatus'] = df.loanstatus.map({\"Charged Off\": 1, \"Fully Paid\": 0})"
   ]
  },
  {
   "cell_type": "code",
   "execution_count": 79,
   "metadata": {},
   "outputs": [
    {
     "name": "stdout",
     "output_type": "stream",
     "text": [
      "0    140202\n",
      "1     22272\n",
      "Name: loanstatus, dtype: int64\n",
      "0    0.86292\n",
      "1    0.13708\n",
      "Name: loanstatus, dtype: float64\n"
     ]
    }
   ],
   "source": [
    "print (df.loanstatus.value_counts())\n",
    "print (df.loanstatus.value_counts(normalize=True))"
   ]
  },
  {
   "cell_type": "code",
   "execution_count": 80,
   "metadata": {},
   "outputs": [
    {
     "data": {
      "text/html": [
       "<div>\n",
       "<style scoped>\n",
       "    .dataframe tbody tr th:only-of-type {\n",
       "        vertical-align: middle;\n",
       "    }\n",
       "\n",
       "    .dataframe tbody tr th {\n",
       "        vertical-align: top;\n",
       "    }\n",
       "\n",
       "    .dataframe thead th {\n",
       "        text-align: right;\n",
       "    }\n",
       "</style>\n",
       "<table border=\"1\" class=\"dataframe\">\n",
       "  <thead>\n",
       "    <tr style=\"text-align: right;\">\n",
       "      <th></th>\n",
       "      <th>emptitle</th>\n",
       "      <th>term</th>\n",
       "      <th>zipcode</th>\n",
       "      <th>intrate</th>\n",
       "      <th>initialliststatus</th>\n",
       "      <th>homeownership</th>\n",
       "      <th>grade</th>\n",
       "      <th>revolutil</th>\n",
       "      <th>emplength</th>\n",
       "      <th>addrstate</th>\n",
       "      <th>...</th>\n",
       "      <th>pubrec</th>\n",
       "      <th>bcopentobuy</th>\n",
       "      <th>totcollamt</th>\n",
       "      <th>inqlast6mths</th>\n",
       "      <th>totalilhighcreditlimit</th>\n",
       "      <th>annualinc</th>\n",
       "      <th>bcutil</th>\n",
       "      <th>numoprevtl</th>\n",
       "      <th>loanstatus</th>\n",
       "      <th>issued</th>\n",
       "    </tr>\n",
       "  </thead>\n",
       "  <tbody>\n",
       "    <tr>\n",
       "      <th>1</th>\n",
       "      <td>Truck Driver Delivery Personel</td>\n",
       "      <td>36 months</td>\n",
       "      <td>937xx</td>\n",
       "      <td>6.99%</td>\n",
       "      <td>w</td>\n",
       "      <td>MORTGAGE</td>\n",
       "      <td>A</td>\n",
       "      <td>31.6%</td>\n",
       "      <td>8 years</td>\n",
       "      <td>CA</td>\n",
       "      <td>...</td>\n",
       "      <td>0.0</td>\n",
       "      <td>7599.0</td>\n",
       "      <td>0.0</td>\n",
       "      <td>2.0</td>\n",
       "      <td>11325.0</td>\n",
       "      <td>58000.0</td>\n",
       "      <td>41.5</td>\n",
       "      <td>14.0</td>\n",
       "      <td>1</td>\n",
       "      <td>Dec-2014</td>\n",
       "    </tr>\n",
       "    <tr>\n",
       "      <th>3</th>\n",
       "      <td>Technical Specialist</td>\n",
       "      <td>36 months</td>\n",
       "      <td>850xx</td>\n",
       "      <td>13.66%</td>\n",
       "      <td>f</td>\n",
       "      <td>RENT</td>\n",
       "      <td>C</td>\n",
       "      <td>91.9%</td>\n",
       "      <td>&lt; 1 year</td>\n",
       "      <td>AZ</td>\n",
       "      <td>...</td>\n",
       "      <td>0.0</td>\n",
       "      <td>332.0</td>\n",
       "      <td>0.0</td>\n",
       "      <td>1.0</td>\n",
       "      <td>64031.0</td>\n",
       "      <td>50000.0</td>\n",
       "      <td>93.2</td>\n",
       "      <td>4.0</td>\n",
       "      <td>1</td>\n",
       "      <td>Dec-2014</td>\n",
       "    </tr>\n",
       "    <tr>\n",
       "      <th>5</th>\n",
       "      <td>Admin Specialist</td>\n",
       "      <td>36 months</td>\n",
       "      <td>077xx</td>\n",
       "      <td>13.66%</td>\n",
       "      <td>f</td>\n",
       "      <td>RENT</td>\n",
       "      <td>C</td>\n",
       "      <td>59.4%</td>\n",
       "      <td>10+ years</td>\n",
       "      <td>NJ</td>\n",
       "      <td>...</td>\n",
       "      <td>0.0</td>\n",
       "      <td>6494.0</td>\n",
       "      <td>0.0</td>\n",
       "      <td>0.0</td>\n",
       "      <td>24890.0</td>\n",
       "      <td>69000.0</td>\n",
       "      <td>69.2</td>\n",
       "      <td>8.0</td>\n",
       "      <td>0</td>\n",
       "      <td>Dec-2014</td>\n",
       "    </tr>\n",
       "    <tr>\n",
       "      <th>7</th>\n",
       "      <td>Store Manager</td>\n",
       "      <td>36 months</td>\n",
       "      <td>208xx</td>\n",
       "      <td>11.44%</td>\n",
       "      <td>f</td>\n",
       "      <td>RENT</td>\n",
       "      <td>B</td>\n",
       "      <td>20.2%</td>\n",
       "      <td>2 years</td>\n",
       "      <td>MD</td>\n",
       "      <td>...</td>\n",
       "      <td>0.0</td>\n",
       "      <td>12152.0</td>\n",
       "      <td>0.0</td>\n",
       "      <td>0.0</td>\n",
       "      <td>6000.0</td>\n",
       "      <td>26000.0</td>\n",
       "      <td>26.8</td>\n",
       "      <td>6.0</td>\n",
       "      <td>0</td>\n",
       "      <td>Dec-2014</td>\n",
       "    </tr>\n",
       "    <tr>\n",
       "      <th>9</th>\n",
       "      <td>Investment Consultant</td>\n",
       "      <td>36 months</td>\n",
       "      <td>483xx</td>\n",
       "      <td>11.99%</td>\n",
       "      <td>f</td>\n",
       "      <td>RENT</td>\n",
       "      <td>B</td>\n",
       "      <td>98%</td>\n",
       "      <td>8 years</td>\n",
       "      <td>MI</td>\n",
       "      <td>...</td>\n",
       "      <td>0.0</td>\n",
       "      <td>324.0</td>\n",
       "      <td>0.0</td>\n",
       "      <td>1.0</td>\n",
       "      <td>0.0</td>\n",
       "      <td>90000.0</td>\n",
       "      <td>98.5</td>\n",
       "      <td>5.0</td>\n",
       "      <td>1</td>\n",
       "      <td>Dec-2014</td>\n",
       "    </tr>\n",
       "  </tbody>\n",
       "</table>\n",
       "<p>5 rows × 71 columns</p>\n",
       "</div>"
      ],
      "text/plain": [
       "                         emptitle        term zipcode  intrate  \\\n",
       "1  Truck Driver Delivery Personel   36 months   937xx    6.99%   \n",
       "3            Technical Specialist   36 months   850xx   13.66%   \n",
       "5                Admin Specialist   36 months   077xx   13.66%   \n",
       "7                   Store Manager   36 months   208xx   11.44%   \n",
       "9           Investment Consultant   36 months   483xx   11.99%   \n",
       "\n",
       "  initialliststatus homeownership grade revolutil  emplength addrstate  \\\n",
       "1                 w      MORTGAGE     A     31.6%    8 years        CA   \n",
       "3                 f          RENT     C     91.9%   < 1 year        AZ   \n",
       "5                 f          RENT     C     59.4%  10+ years        NJ   \n",
       "7                 f          RENT     B     20.2%    2 years        MD   \n",
       "9                 f          RENT     B       98%    8 years        MI   \n",
       "\n",
       "     ...    pubrec bcopentobuy totcollamt inqlast6mths  \\\n",
       "1    ...       0.0      7599.0        0.0          2.0   \n",
       "3    ...       0.0       332.0        0.0          1.0   \n",
       "5    ...       0.0      6494.0        0.0          0.0   \n",
       "7    ...       0.0     12152.0        0.0          0.0   \n",
       "9    ...       0.0       324.0        0.0          1.0   \n",
       "\n",
       "   totalilhighcreditlimit  annualinc  bcutil  numoprevtl  loanstatus    issued  \n",
       "1                 11325.0    58000.0    41.5        14.0           1  Dec-2014  \n",
       "3                 64031.0    50000.0    93.2         4.0           1  Dec-2014  \n",
       "5                 24890.0    69000.0    69.2         8.0           0  Dec-2014  \n",
       "7                  6000.0    26000.0    26.8         6.0           0  Dec-2014  \n",
       "9                     0.0    90000.0    98.5         5.0           1  Dec-2014  \n",
       "\n",
       "[5 rows x 71 columns]"
      ]
     },
     "execution_count": 80,
     "metadata": {},
     "output_type": "execute_result"
    }
   ],
   "source": [
    "df.head()"
   ]
  },
  {
   "cell_type": "markdown",
   "metadata": {},
   "source": [
    "## Out of time testing set and in-time training set: Oct~Dec as test)"
   ]
  },
  {
   "cell_type": "code",
   "execution_count": 81,
   "metadata": {},
   "outputs": [
    {
     "data": {
      "text/plain": [
       "['Dec-2014',\n",
       " 'Nov-2014',\n",
       " 'Oct-2014',\n",
       " 'Sep-2014',\n",
       " 'Aug-2014',\n",
       " 'Jul-2014',\n",
       " 'Jun-2014',\n",
       " 'May-2014',\n",
       " 'Apr-2014',\n",
       " 'Mar-2014',\n",
       " 'Feb-2014',\n",
       " 'Jan-2014']"
      ]
     },
     "execution_count": 81,
     "metadata": {},
     "output_type": "execute_result"
    }
   ],
   "source": [
    "issued=list(df['issued'].unique())\n",
    "issued"
   ]
  },
  {
   "cell_type": "code",
   "execution_count": 82,
   "metadata": {},
   "outputs": [
    {
     "data": {
      "text/plain": [
       "1    112548\n",
       "0     49926\n",
       "Name: train_flg, dtype: int64"
      ]
     },
     "execution_count": 82,
     "metadata": {},
     "output_type": "execute_result"
    }
   ],
   "source": [
    "df['train_flg'] = df.issued.apply(lambda x: 0 if x in issued[:3] else 1)\n",
    "df.train_flg.value_counts()"
   ]
  },
  {
   "cell_type": "markdown",
   "metadata": {},
   "source": [
    "## Feature Engineering & Cleaning"
   ]
  },
  {
   "cell_type": "markdown",
   "metadata": {},
   "source": [
    "#### Datetime to numeric feature"
   ]
  },
  {
   "cell_type": "code",
   "execution_count": 83,
   "metadata": {},
   "outputs": [
    {
     "data": {
      "text/plain": [
       "array(['Sep-1989', 'Aug-2002', 'Nov-1992', 'May-2009', 'Jul-2003'], dtype=object)"
      ]
     },
     "execution_count": 83,
     "metadata": {},
     "output_type": "execute_result"
    }
   ],
   "source": [
    "df.earliestcrline.unique()[:5]"
   ]
  },
  {
   "cell_type": "code",
   "execution_count": 84,
   "metadata": {},
   "outputs": [],
   "source": [
    "# convert to number of months to Dec 2014\n",
    "\n",
    "cl_month=df.earliestcrline.apply(lambda x: x.split('-')[0])\n",
    "cl_year=df.earliestcrline.apply(lambda x: int(x.split('-')[1]))"
   ]
  },
  {
   "cell_type": "code",
   "execution_count": 85,
   "metadata": {},
   "outputs": [
    {
     "data": {
      "text/plain": [
       "array(['Sep', 'Aug', 'Nov', 'May', 'Jul', 'Oct', 'Jan', 'Jun', 'Dec',\n",
       "       'Feb', 'Apr', 'Mar'], dtype=object)"
      ]
     },
     "execution_count": 85,
     "metadata": {},
     "output_type": "execute_result"
    }
   ],
   "source": [
    "cl_month.unique()"
   ]
  },
  {
   "cell_type": "code",
   "execution_count": 86,
   "metadata": {},
   "outputs": [
    {
     "data": {
      "text/plain": [
       "array([1989, 2002, 1992, 2009, 2003, 2001, 1999, 1998, 1996, 1995, 1993,\n",
       "       2010, 2007, 2006, 1994, 2000, 2008, 1988, 2004, 2011, 1997, 1984,\n",
       "       2005, 1973, 1991, 1986, 1987, 1985, 1982, 1979, 1974, 1983, 1976,\n",
       "       1990, 1978, 1981, 1980, 1977, 1969, 1971, 1967, 1972, 1968, 1962,\n",
       "       1975, 1965, 1966, 1963, 1970, 1964, 1958, 1955, 1959, 1961, 1960,\n",
       "       1954, 1957, 1949, 1950, 1948, 1953, 1956], dtype=int64)"
      ]
     },
     "execution_count": 86,
     "metadata": {},
     "output_type": "execute_result"
    }
   ],
   "source": [
    "cl_year.unique()"
   ]
  },
  {
   "cell_type": "code",
   "execution_count": 87,
   "metadata": {},
   "outputs": [],
   "source": [
    "dic_month= {'Jan':11,'Feb':10,'Mar':9,'Apr':8, 'May':7, 'Jun':6, 'Jul':5, 'Aug':4, 'Sep':3, 'Oct':2, 'Nov':1, 'Dec':0}"
   ]
  },
  {
   "cell_type": "code",
   "execution_count": 88,
   "metadata": {},
   "outputs": [],
   "source": [
    "df['earliestcrline_month']=df.earliestcrline.apply(lambda x: (2014-int(x.split('-')[1]))*12+dic_month[x.split('-')[0]])"
   ]
  },
  {
   "cell_type": "code",
   "execution_count": 89,
   "metadata": {},
   "outputs": [
    {
     "data": {
      "text/plain": [
       "1    303\n",
       "3    148\n",
       "5    265\n",
       "7     67\n",
       "9    137\n",
       "Name: earliestcrline_month, dtype: int64"
      ]
     },
     "execution_count": 89,
     "metadata": {},
     "output_type": "execute_result"
    }
   ],
   "source": [
    "df.earliestcrline_month[:5]"
   ]
  },
  {
   "cell_type": "code",
   "execution_count": 90,
   "metadata": {},
   "outputs": [],
   "source": [
    "num_feature.append('earliestcrline_month')\n",
    "cat_feature.remove('earliestcrline')"
   ]
  },
  {
   "cell_type": "code",
   "execution_count": 91,
   "metadata": {},
   "outputs": [
    {
     "name": "stdout",
     "output_type": "stream",
     "text": [
      "12 56\n"
     ]
    }
   ],
   "source": [
    "print (len(cat_feature), len(num_feature))"
   ]
  },
  {
   "cell_type": "markdown",
   "metadata": {},
   "source": [
    "### emplength to numeric feature"
   ]
  },
  {
   "cell_type": "code",
   "execution_count": 93,
   "metadata": {},
   "outputs": [
    {
     "name": "stdout",
     "output_type": "stream",
     "text": [
      "9640\n"
     ]
    },
    {
     "data": {
      "text/plain": [
       "array(['8 years', '< 1 year', '10+ years', '2 years', '9 years', '7 years',\n",
       "       nan, '3 years', '1 year', '5 years', '4 years', '6 years'], dtype=object)"
      ]
     },
     "execution_count": 93,
     "metadata": {},
     "output_type": "execute_result"
    }
   ],
   "source": [
    "print (df['emplength'].isnull().sum())\n",
    "df['emplength'].unique()"
   ]
  },
  {
   "cell_type": "code",
   "execution_count": 94,
   "metadata": {},
   "outputs": [],
   "source": [
    "df['emplength'].replace('< 1 year', '0', inplace=True)\n",
    "df['emplength'].replace(to_replace='[^0-9]+', value='', inplace=True, regex=True)\n",
    "df.emplength.fillna(value=-999,inplace=True)\n",
    "df['emplength'] = df['emplength'].astype(int)"
   ]
  },
  {
   "cell_type": "code",
   "execution_count": 95,
   "metadata": {},
   "outputs": [
    {
     "data": {
      "text/plain": [
       " 10     51112\n",
       " 2      14656\n",
       " 3      13100\n",
       " 0      13051\n",
       " 1      10565\n",
       " 4       9662\n",
       "-999     9640\n",
       " 5       9146\n",
       " 7       8936\n",
       " 6       8203\n",
       " 8       8128\n",
       " 9       6275\n",
       "Name: emplength, dtype: int64"
      ]
     },
     "execution_count": 95,
     "metadata": {},
     "output_type": "execute_result"
    }
   ],
   "source": [
    "df.emplength.value_counts()"
   ]
  },
  {
   "cell_type": "code",
   "execution_count": 96,
   "metadata": {},
   "outputs": [
    {
     "name": "stdout",
     "output_type": "stream",
     "text": [
      "57 11\n"
     ]
    }
   ],
   "source": [
    "num_feature.append('emplength')\n",
    "cat_feature.remove('emplength')\n",
    "print (len(num_feature), len(cat_feature))"
   ]
  },
  {
   "cell_type": "markdown",
   "metadata": {},
   "source": [
    "## % to numeric feature: intrate, revolutil"
   ]
  },
  {
   "cell_type": "code",
   "execution_count": 98,
   "metadata": {},
   "outputs": [],
   "source": [
    "intrate=df.intrate.apply(lambda x: float(x.replace('%','')))"
   ]
  },
  {
   "cell_type": "code",
   "execution_count": 99,
   "metadata": {},
   "outputs": [
    {
     "data": {
      "text/plain": [
       "1     6.99\n",
       "3    13.66\n",
       "Name: intrate, dtype: float64"
      ]
     },
     "execution_count": 99,
     "metadata": {},
     "output_type": "execute_result"
    }
   ],
   "source": [
    "df.intrate=intrate\n",
    "df.intrate[:2]"
   ]
  },
  {
   "cell_type": "code",
   "execution_count": 100,
   "metadata": {},
   "outputs": [
    {
     "data": {
      "text/plain": [
       "1    31.6%\n",
       "3    91.9%\n",
       "5    59.4%\n",
       "Name: revolutil, dtype: object"
      ]
     },
     "execution_count": 100,
     "metadata": {},
     "output_type": "execute_result"
    }
   ],
   "source": [
    "df.revolutil[:3]"
   ]
  },
  {
   "cell_type": "code",
   "execution_count": 101,
   "metadata": {},
   "outputs": [],
   "source": [
    "revolutil=df.revolutil.apply(lambda x: str(x).replace('%','')).astype(float)"
   ]
  },
  {
   "cell_type": "code",
   "execution_count": 102,
   "metadata": {},
   "outputs": [
    {
     "data": {
      "text/plain": [
       "1    31.6\n",
       "3    91.9\n",
       "Name: revolutil, dtype: float64"
      ]
     },
     "execution_count": 102,
     "metadata": {},
     "output_type": "execute_result"
    }
   ],
   "source": [
    "df.revolutil=revolutil\n",
    "df.revolutil[:2]"
   ]
  },
  {
   "cell_type": "code",
   "execution_count": 103,
   "metadata": {},
   "outputs": [],
   "source": [
    "cat_feature.remove('intrate')\n",
    "num_feature.append('intrate')\n",
    "cat_feature.remove('revolutil')\n",
    "num_feature.append('revolutil')"
   ]
  },
  {
   "cell_type": "code",
   "execution_count": 105,
   "metadata": {},
   "outputs": [
    {
     "name": "stdout",
     "output_type": "stream",
     "text": [
      "9 59\n"
     ]
    }
   ],
   "source": [
    "print (len(cat_feature), len(num_feature))"
   ]
  },
  {
   "cell_type": "markdown",
   "metadata": {},
   "source": [
    "#### Ordinal feature encoding : grade, subgrade"
   ]
  },
  {
   "cell_type": "code",
   "execution_count": 106,
   "metadata": {},
   "outputs": [],
   "source": [
    "Dic_grade = {\"A\": 1, \n",
    "            \"B\": 2, \n",
    "            \"C\": 3, \n",
    "            \"D\": 4, \n",
    "            \"E\": 5,\n",
    "            \"F\": 6, \n",
    "            \"G\": 7}"
   ]
  },
  {
   "cell_type": "code",
   "execution_count": 107,
   "metadata": {},
   "outputs": [],
   "source": [
    "df.grade = df.grade.map(Dic_grade)"
   ]
  },
  {
   "cell_type": "code",
   "execution_count": 108,
   "metadata": {},
   "outputs": [],
   "source": [
    "df.subgrade = df.subgrade.apply(lambda x: (Dic_grade[x[0]] - 1) * 5 + int(x[1]))"
   ]
  },
  {
   "cell_type": "code",
   "execution_count": 109,
   "metadata": {},
   "outputs": [],
   "source": [
    "cat_feature.remove('grade')\n",
    "num_feature.append('grade')\n",
    "cat_feature.remove('subgrade')\n",
    "num_feature.append('subgrade')"
   ]
  },
  {
   "cell_type": "code",
   "execution_count": 110,
   "metadata": {},
   "outputs": [
    {
     "name": "stdout",
     "output_type": "stream",
     "text": [
      "7 61\n"
     ]
    }
   ],
   "source": [
    "print (len(cat_feature), len(num_feature))"
   ]
  },
  {
   "cell_type": "code",
   "execution_count": null,
   "metadata": {
    "collapsed": true
   },
   "outputs": [],
   "source": []
  },
  {
   "cell_type": "markdown",
   "metadata": {},
   "source": [
    "### High cardinality feature encoding"
   ]
  },
  {
   "cell_type": "markdown",
   "metadata": {},
   "source": [
    "###### Zip Code - frequency encoding "
   ]
  },
  {
   "cell_type": "code",
   "execution_count": 112,
   "metadata": {},
   "outputs": [
    {
     "name": "stdout",
     "output_type": "stream",
     "text": [
      "854 ['937xx' '850xx' '077xx' '208xx' '483xx']\n"
     ]
    }
   ],
   "source": [
    "print (df.zipcode.nunique(), df.zipcode.unique()[:5])"
   ]
  },
  {
   "cell_type": "code",
   "execution_count": 113,
   "metadata": {},
   "outputs": [],
   "source": [
    "# convert zipcode to int\n",
    "df.zipcode = df.zipcode.apply(lambda x: int(x[0:3]))"
   ]
  },
  {
   "cell_type": "code",
   "execution_count": 115,
   "metadata": {},
   "outputs": [
    {
     "data": {
      "text/plain": [
       "1    937\n",
       "3    850\n",
       "5     77\n",
       "7    208\n",
       "9    483\n",
       "Name: zipcode, dtype: int64"
      ]
     },
     "execution_count": 115,
     "metadata": {},
     "output_type": "execute_result"
    }
   ],
   "source": [
    "df.zipcode[:5]"
   ]
  },
  {
   "cell_type": "code",
   "execution_count": 116,
   "metadata": {},
   "outputs": [],
   "source": [
    "zipcode_freq = df.groupby(\"zipcode\").size().reset_index()"
   ]
  },
  {
   "cell_type": "code",
   "execution_count": 117,
   "metadata": {},
   "outputs": [
    {
     "data": {
      "text/html": [
       "<div>\n",
       "<style scoped>\n",
       "    .dataframe tbody tr th:only-of-type {\n",
       "        vertical-align: middle;\n",
       "    }\n",
       "\n",
       "    .dataframe tbody tr th {\n",
       "        vertical-align: top;\n",
       "    }\n",
       "\n",
       "    .dataframe thead th {\n",
       "        text-align: right;\n",
       "    }\n",
       "</style>\n",
       "<table border=\"1\" class=\"dataframe\">\n",
       "  <thead>\n",
       "    <tr style=\"text-align: right;\">\n",
       "      <th></th>\n",
       "      <th>zipcode</th>\n",
       "      <th>0</th>\n",
       "    </tr>\n",
       "  </thead>\n",
       "  <tbody>\n",
       "    <tr>\n",
       "      <th>0</th>\n",
       "      <td>8</td>\n",
       "      <td>1</td>\n",
       "    </tr>\n",
       "    <tr>\n",
       "      <th>1</th>\n",
       "      <td>10</td>\n",
       "      <td>229</td>\n",
       "    </tr>\n",
       "    <tr>\n",
       "      <th>2</th>\n",
       "      <td>11</td>\n",
       "      <td>66</td>\n",
       "    </tr>\n",
       "    <tr>\n",
       "      <th>3</th>\n",
       "      <td>12</td>\n",
       "      <td>69</td>\n",
       "    </tr>\n",
       "    <tr>\n",
       "      <th>4</th>\n",
       "      <td>13</td>\n",
       "      <td>41</td>\n",
       "    </tr>\n",
       "  </tbody>\n",
       "</table>\n",
       "</div>"
      ],
      "text/plain": [
       "   zipcode    0\n",
       "0        8    1\n",
       "1       10  229\n",
       "2       11   66\n",
       "3       12   69\n",
       "4       13   41"
      ]
     },
     "execution_count": 117,
     "metadata": {},
     "output_type": "execute_result"
    }
   ],
   "source": [
    "zipcode_freq[:5]"
   ]
  },
  {
   "cell_type": "code",
   "execution_count": 118,
   "metadata": {},
   "outputs": [],
   "source": [
    "zipcode_freq.columns = [\"zipcode\", \"zipcode_freq\"]"
   ]
  },
  {
   "cell_type": "code",
   "execution_count": 119,
   "metadata": {},
   "outputs": [],
   "source": [
    "df = pd.merge(df, zipcode_freq, how = \"left\", on = \"zipcode\")"
   ]
  },
  {
   "cell_type": "code",
   "execution_count": 120,
   "metadata": {},
   "outputs": [
    {
     "data": {
      "text/plain": [
       "0    243\n",
       "1    735\n",
       "2    365\n",
       "3    434\n",
       "4    572\n",
       "Name: zipcode_freq, dtype: int64"
      ]
     },
     "execution_count": 120,
     "metadata": {},
     "output_type": "execute_result"
    }
   ],
   "source": [
    "df.zipcode_freq[:5]"
   ]
  },
  {
   "cell_type": "code",
   "execution_count": 121,
   "metadata": {},
   "outputs": [
    {
     "name": "stdout",
     "output_type": "stream",
     "text": [
      "6 63\n"
     ]
    }
   ],
   "source": [
    "cat_feature.remove('zipcode')\n",
    "num_feature.append('zipcode')\n",
    "num_feature.append('zipcode_freq')\n",
    "print (len(cat_feature), len(num_feature))"
   ]
  },
  {
   "cell_type": "markdown",
   "metadata": {},
   "source": [
    "### emptitle-frequency encoding"
   ]
  },
  {
   "cell_type": "code",
   "execution_count": 122,
   "metadata": {},
   "outputs": [],
   "source": [
    "emptitle_freq = df.groupby(\"emptitle\").size().reset_index()\n",
    "emptitle_freq.columns = [\"emptitle\", \"emptitle_freq\"]\n",
    "df = pd.merge(df, emptitle_freq, how = \"left\", on = \"emptitle\")"
   ]
  },
  {
   "cell_type": "code",
   "execution_count": 123,
   "metadata": {},
   "outputs": [
    {
     "name": "stdout",
     "output_type": "stream",
     "text": [
      "5 64\n"
     ]
    }
   ],
   "source": [
    "cat_feature.remove('emptitle')\n",
    "num_feature.append('emptitle_freq')\n",
    "print (len(cat_feature), len(num_feature))"
   ]
  },
  {
   "cell_type": "markdown",
   "metadata": {},
   "source": [
    "###### Addr_state - frequency encoding"
   ]
  },
  {
   "cell_type": "code",
   "execution_count": 124,
   "metadata": {},
   "outputs": [],
   "source": [
    "addrstate_freq = df.groupby(\"addrstate\").size().reset_index()\n",
    "addrstate_freq.columns = [\"addrstate\", \"addrstate_freq\"]\n",
    "df = pd.merge(df, addrstate_freq, how = \"left\", on = \"addrstate\")"
   ]
  },
  {
   "cell_type": "code",
   "execution_count": 125,
   "metadata": {},
   "outputs": [
    {
     "name": "stdout",
     "output_type": "stream",
     "text": [
      "4 65\n"
     ]
    }
   ],
   "source": [
    "cat_feature.remove('addrstate')\n",
    "num_feature.append('addrstate_freq')\n",
    "print (len(cat_feature), len(num_feature))"
   ]
  },
  {
   "cell_type": "markdown",
   "metadata": {},
   "source": [
    "#### One hot encoding"
   ]
  },
  {
   "cell_type": "code",
   "execution_count": 126,
   "metadata": {},
   "outputs": [
    {
     "data": {
      "text/plain": [
       "['initialliststatus', 'homeownership', 'purpose', 'verificationstatus']"
      ]
     },
     "execution_count": 126,
     "metadata": {},
     "output_type": "execute_result"
    }
   ],
   "source": [
    "cat_feature"
   ]
  },
  {
   "cell_type": "code",
   "execution_count": 127,
   "metadata": {},
   "outputs": [],
   "source": [
    "dummy_feature = cat_feature"
   ]
  },
  {
   "cell_type": "code",
   "execution_count": 128,
   "metadata": {},
   "outputs": [],
   "source": [
    "df_dummy = pd.get_dummies(df[dummy_feature])"
   ]
  },
  {
   "cell_type": "code",
   "execution_count": 129,
   "metadata": {},
   "outputs": [],
   "source": [
    "OHE_feature=list(df_dummy.columns.values)"
   ]
  },
  {
   "cell_type": "code",
   "execution_count": 130,
   "metadata": {},
   "outputs": [
    {
     "data": {
      "text/plain": [
       "22"
      ]
     },
     "execution_count": 130,
     "metadata": {},
     "output_type": "execute_result"
    }
   ],
   "source": [
    "len(OHE_feature)"
   ]
  },
  {
   "cell_type": "code",
   "execution_count": 131,
   "metadata": {},
   "outputs": [],
   "source": [
    "df=pd.concat([df,df_dummy], axis=1 )"
   ]
  },
  {
   "cell_type": "code",
   "execution_count": 132,
   "metadata": {},
   "outputs": [
    {
     "data": {
      "text/plain": [
       "(162474, 98)"
      ]
     },
     "execution_count": 132,
     "metadata": {},
     "output_type": "execute_result"
    }
   ],
   "source": [
    "df.shape"
   ]
  },
  {
   "cell_type": "code",
   "execution_count": 142,
   "metadata": {},
   "outputs": [],
   "source": [
    "for feat in dummy_feature:    \n",
    "    cat_feature.remove(feat)"
   ]
  },
  {
   "cell_type": "code",
   "execution_count": 143,
   "metadata": {},
   "outputs": [
    {
     "data": {
      "text/plain": [
       "0"
      ]
     },
     "execution_count": 143,
     "metadata": {},
     "output_type": "execute_result"
    }
   ],
   "source": [
    "len(cat_feature)"
   ]
  },
  {
   "cell_type": "code",
   "execution_count": 144,
   "metadata": {},
   "outputs": [],
   "source": [
    "select_feature=num_feature+OHE_feature"
   ]
  },
  {
   "cell_type": "code",
   "execution_count": 145,
   "metadata": {},
   "outputs": [
    {
     "data": {
      "text/plain": [
       "87"
      ]
     },
     "execution_count": 145,
     "metadata": {},
     "output_type": "execute_result"
    }
   ],
   "source": [
    "len(select_feature)"
   ]
  },
  {
   "cell_type": "markdown",
   "metadata": {},
   "source": [
    "##  XGBoost "
   ]
  },
  {
   "cell_type": "code",
   "execution_count": 147,
   "metadata": {},
   "outputs": [
    {
     "name": "stdout",
     "output_type": "stream",
     "text": [
      "['percentbcgt75', 'mthssincerecentrevoldelinq', 'loanamnt', 'collections12mthsexmed', 'pubrecbankruptcies', 'numactvrevtl', 'taxliens', 'numiltl', 'totalrevhilim', 'delinq2yrs', 'accnowdelinq', 'avgcurbal', 'dti', 'accopenpast24mths', 'numbctl', 'numtl120dpd2m', 'revolbal', 'totcurbal', 'totalacc', 'openacc', 'tothicredlim', 'numsats', 'mosinoldilacct', 'mthssincelastdelinq', 'delinqamnt', 'totalbclimit', 'chargeoffwithin12mths', 'mthssincerecentinq', 'numrevtlbalgt0', 'numtl90gdpd24m', 'mthssincelastmajorderog', 'mthssincerecentbc', 'totalbalexmort', 'numacctsever120pd', 'mosinrcntrevtlop', 'mthssincerecentbcdlq', 'numtl30dpd', 'numtloppast12m', 'mosinrcnttl', 'numbcsats', 'pcttlnvrdlq', 'installment', 'mortacc', 'numactvbctl', 'mosinoldrevtlop', 'numrevaccts', 'mthssincelastrecord', 'pubrec', 'bcopentobuy', 'totcollamt', 'inqlast6mths', 'totalilhighcreditlimit', 'annualinc', 'bcutil', 'numoprevtl', 'earliestcrline_month', 'emplength', 'intrate', 'revolutil', 'grade', 'subgrade', 'zipcode', 'zipcode_freq', 'emptitle_freq', 'addrstate_freq', 'initialliststatus_f', 'initialliststatus_w', 'homeownership_ANY', 'homeownership_MORTGAGE', 'homeownership_OWN', 'homeownership_RENT', 'purpose_car', 'purpose_credit_card', 'purpose_debt_consolidation', 'purpose_home_improvement', 'purpose_house', 'purpose_major_purchase', 'purpose_medical', 'purpose_moving', 'purpose_other', 'purpose_renewable_energy', 'purpose_small_business', 'purpose_vacation', 'purpose_wedding', 'verificationstatus_Not Verified', 'verificationstatus_Source Verified', 'verificationstatus_Verified']\n"
     ]
    }
   ],
   "source": [
    "feat=select_feature\n",
    "print (feat)"
   ]
  },
  {
   "cell_type": "markdown",
   "metadata": {},
   "source": [
    "### Preliminary manually parameter tuning based on stratified train-test split"
   ]
  },
  {
   "cell_type": "code",
   "execution_count": 157,
   "metadata": {},
   "outputs": [],
   "source": [
    "from sklearn.model_selection import StratifiedKFold\n",
    "from sklearn.model_selection import train_test_split\n",
    "#Kfolds = StratifiedKFold(df_all['loan_status'], n_folds = 3, shuffle=True, random_state=2019)"
   ]
  },
  {
   "cell_type": "code",
   "execution_count": 149,
   "metadata": {},
   "outputs": [],
   "source": [
    "df_train = df.query(\"train_flg == 1\")\n",
    "df_test =df.query(\"train_flg == 0\" )"
   ]
  },
  {
   "cell_type": "code",
   "execution_count": 150,
   "metadata": {},
   "outputs": [
    {
     "name": "stdout",
     "output_type": "stream",
     "text": [
      "(112548, 98) (49926, 98)\n"
     ]
    }
   ],
   "source": [
    "print (df_train.shape, df_test.shape)"
   ]
  },
  {
   "cell_type": "code",
   "execution_count": 151,
   "metadata": {},
   "outputs": [
    {
     "data": {
      "text/plain": [
       "(112548, 87)"
      ]
     },
     "execution_count": 151,
     "metadata": {},
     "output_type": "execute_result"
    }
   ],
   "source": [
    "df_train[feat].shape"
   ]
  },
  {
   "cell_type": "code",
   "execution_count": 152,
   "metadata": {},
   "outputs": [],
   "source": [
    "X_train, X_valid, y_train, y_valid = train_test_split(df_train[feat], df_train.loanstatus, \n",
    "                                                      test_size=0.3, random_state=2014, stratify = df_train.loanstatus )"
   ]
  },
  {
   "cell_type": "code",
   "execution_count": 153,
   "metadata": {},
   "outputs": [],
   "source": [
    "X_test, y_test = df_test[feat], df_test.loanstatus"
   ]
  },
  {
   "cell_type": "code",
   "execution_count": 154,
   "metadata": {},
   "outputs": [],
   "source": [
    "dtrain = xgb.DMatrix(X_train, y_train, missing = np.NAN)\n",
    "dvalid = xgb.DMatrix(X_valid, y_valid, missing = np.NAN)\n",
    "dtest = xgb.DMatrix(X_test, y_test, missing = np.NAN)"
   ]
  },
  {
   "cell_type": "code",
   "execution_count": 155,
   "metadata": {},
   "outputs": [],
   "source": [
    "params = {\"objective\": \"binary:logistic\", \n",
    "          \"booster\" : \"gbtree\", \n",
    "          \"eta\": 0.05, \n",
    "          \"max_depth\": 6, \n",
    "          \"subsample\": 0.632, \n",
    "          \"colsample_bytree\": 0.7,\n",
    "          #\"colsample_bylevel\": 0.6,\n",
    "          \"silent\": 1, \n",
    "          \"seed\": 1234, \n",
    "          \"eval_metric\": \"auc\",\n",
    "          #\"gamma\": 1, \n",
    "          \"min_child_weight\": 5} "
   ]
  },
  {
   "cell_type": "code",
   "execution_count": 156,
   "metadata": {},
   "outputs": [
    {
     "name": "stdout",
     "output_type": "stream",
     "text": [
      "[0]\ttrain-auc:0.671209\teval-auc:0.644556\n",
      "Multiple eval metrics have been passed: 'eval-auc' will be used for early stopping.\n",
      "\n",
      "Will train until eval-auc hasn't improved in 50 rounds.\n",
      "[1]\ttrain-auc:0.684634\teval-auc:0.654503\n",
      "[2]\ttrain-auc:0.690523\teval-auc:0.658902\n",
      "[3]\ttrain-auc:0.69365\teval-auc:0.661845\n",
      "[4]\ttrain-auc:0.696266\teval-auc:0.664057\n",
      "[5]\ttrain-auc:0.697465\teval-auc:0.664842\n",
      "[6]\ttrain-auc:0.699651\teval-auc:0.664937\n",
      "[7]\ttrain-auc:0.701393\teval-auc:0.666051\n",
      "[8]\ttrain-auc:0.70225\teval-auc:0.667299\n",
      "[9]\ttrain-auc:0.703162\teval-auc:0.668548\n",
      "[10]\ttrain-auc:0.704183\teval-auc:0.66966\n",
      "[11]\ttrain-auc:0.704745\teval-auc:0.669493\n",
      "[12]\ttrain-auc:0.707261\teval-auc:0.670636\n",
      "[13]\ttrain-auc:0.708321\teval-auc:0.671512\n",
      "[14]\ttrain-auc:0.708732\teval-auc:0.672139\n",
      "[15]\ttrain-auc:0.709455\teval-auc:0.67231\n",
      "[16]\ttrain-auc:0.709955\teval-auc:0.672487\n",
      "[17]\ttrain-auc:0.710448\teval-auc:0.672875\n",
      "[18]\ttrain-auc:0.710702\teval-auc:0.673083\n",
      "[19]\ttrain-auc:0.711095\teval-auc:0.673398\n",
      "[20]\ttrain-auc:0.711921\teval-auc:0.673526\n",
      "[21]\ttrain-auc:0.712407\teval-auc:0.673621\n",
      "[22]\ttrain-auc:0.712708\teval-auc:0.673882\n",
      "[23]\ttrain-auc:0.713377\teval-auc:0.674138\n",
      "[24]\ttrain-auc:0.713807\teval-auc:0.674277\n",
      "[25]\ttrain-auc:0.714112\teval-auc:0.674541\n",
      "[26]\ttrain-auc:0.71472\teval-auc:0.674886\n",
      "[27]\ttrain-auc:0.715045\teval-auc:0.675006\n",
      "[28]\ttrain-auc:0.715649\teval-auc:0.675071\n",
      "[29]\ttrain-auc:0.716419\teval-auc:0.674955\n",
      "[30]\ttrain-auc:0.716984\teval-auc:0.675471\n",
      "[31]\ttrain-auc:0.717624\teval-auc:0.675789\n",
      "[32]\ttrain-auc:0.71798\teval-auc:0.675867\n",
      "[33]\ttrain-auc:0.718323\teval-auc:0.675995\n",
      "[34]\ttrain-auc:0.718885\teval-auc:0.676203\n",
      "[35]\ttrain-auc:0.719476\teval-auc:0.676415\n",
      "[36]\ttrain-auc:0.719762\teval-auc:0.676437\n",
      "[37]\ttrain-auc:0.72053\teval-auc:0.676575\n",
      "[38]\ttrain-auc:0.72106\teval-auc:0.676685\n",
      "[39]\ttrain-auc:0.721793\teval-auc:0.676917\n",
      "[40]\ttrain-auc:0.722201\teval-auc:0.676961\n",
      "[41]\ttrain-auc:0.722553\teval-auc:0.677098\n",
      "[42]\ttrain-auc:0.723126\teval-auc:0.677151\n",
      "[43]\ttrain-auc:0.723729\teval-auc:0.677245\n",
      "[44]\ttrain-auc:0.724233\teval-auc:0.677587\n",
      "[45]\ttrain-auc:0.724531\teval-auc:0.677683\n",
      "[46]\ttrain-auc:0.725142\teval-auc:0.677919\n",
      "[47]\ttrain-auc:0.725864\teval-auc:0.67811\n",
      "[48]\ttrain-auc:0.72651\teval-auc:0.678119\n",
      "[49]\ttrain-auc:0.727248\teval-auc:0.678246\n",
      "[50]\ttrain-auc:0.727854\teval-auc:0.678253\n",
      "[51]\ttrain-auc:0.728265\teval-auc:0.678344\n",
      "[52]\ttrain-auc:0.72848\teval-auc:0.678344\n",
      "[53]\ttrain-auc:0.729245\teval-auc:0.678459\n",
      "[54]\ttrain-auc:0.729722\teval-auc:0.678727\n",
      "[55]\ttrain-auc:0.730024\teval-auc:0.679055\n",
      "[56]\ttrain-auc:0.730422\teval-auc:0.679162\n",
      "[57]\ttrain-auc:0.731063\teval-auc:0.679274\n",
      "[58]\ttrain-auc:0.731655\teval-auc:0.679499\n",
      "[59]\ttrain-auc:0.732205\teval-auc:0.679622\n",
      "[60]\ttrain-auc:0.732668\teval-auc:0.679849\n",
      "[61]\ttrain-auc:0.733321\teval-auc:0.680038\n",
      "[62]\ttrain-auc:0.734062\teval-auc:0.680258\n",
      "[63]\ttrain-auc:0.734633\teval-auc:0.680367\n",
      "[64]\ttrain-auc:0.735166\teval-auc:0.680459\n",
      "[65]\ttrain-auc:0.73565\teval-auc:0.680539\n",
      "[66]\ttrain-auc:0.735916\teval-auc:0.680502\n",
      "[67]\ttrain-auc:0.736401\teval-auc:0.680608\n",
      "[68]\ttrain-auc:0.736727\teval-auc:0.680643\n",
      "[69]\ttrain-auc:0.737516\teval-auc:0.680876\n",
      "[70]\ttrain-auc:0.737886\teval-auc:0.681005\n",
      "[71]\ttrain-auc:0.738603\teval-auc:0.681296\n",
      "[72]\ttrain-auc:0.739232\teval-auc:0.681315\n",
      "[73]\ttrain-auc:0.739712\teval-auc:0.681175\n",
      "[74]\ttrain-auc:0.740476\teval-auc:0.681167\n",
      "[75]\ttrain-auc:0.741019\teval-auc:0.681124\n",
      "[76]\ttrain-auc:0.741538\teval-auc:0.681463\n",
      "[77]\ttrain-auc:0.74206\teval-auc:0.681622\n",
      "[78]\ttrain-auc:0.74252\teval-auc:0.681781\n",
      "[79]\ttrain-auc:0.743232\teval-auc:0.681882\n",
      "[80]\ttrain-auc:0.743953\teval-auc:0.681859\n",
      "[81]\ttrain-auc:0.744499\teval-auc:0.681993\n",
      "[82]\ttrain-auc:0.745248\teval-auc:0.682021\n",
      "[83]\ttrain-auc:0.745726\teval-auc:0.682198\n",
      "[84]\ttrain-auc:0.74621\teval-auc:0.682194\n",
      "[85]\ttrain-auc:0.746917\teval-auc:0.682265\n",
      "[86]\ttrain-auc:0.747526\teval-auc:0.682457\n",
      "[87]\ttrain-auc:0.747956\teval-auc:0.682539\n",
      "[88]\ttrain-auc:0.748434\teval-auc:0.682559\n",
      "[89]\ttrain-auc:0.748758\teval-auc:0.682609\n",
      "[90]\ttrain-auc:0.749209\teval-auc:0.682691\n",
      "[91]\ttrain-auc:0.749487\teval-auc:0.68279\n",
      "[92]\ttrain-auc:0.750111\teval-auc:0.682746\n",
      "[93]\ttrain-auc:0.750287\teval-auc:0.682743\n",
      "[94]\ttrain-auc:0.750951\teval-auc:0.682954\n",
      "[95]\ttrain-auc:0.751195\teval-auc:0.683034\n",
      "[96]\ttrain-auc:0.751908\teval-auc:0.683119\n",
      "[97]\ttrain-auc:0.752513\teval-auc:0.683104\n",
      "[98]\ttrain-auc:0.753068\teval-auc:0.683224\n",
      "[99]\ttrain-auc:0.753602\teval-auc:0.683294\n",
      "[100]\ttrain-auc:0.753959\teval-auc:0.683309\n",
      "[101]\ttrain-auc:0.754444\teval-auc:0.683482\n",
      "[102]\ttrain-auc:0.754981\teval-auc:0.683543\n",
      "[103]\ttrain-auc:0.755274\teval-auc:0.683598\n",
      "[104]\ttrain-auc:0.755822\teval-auc:0.683529\n",
      "[105]\ttrain-auc:0.756316\teval-auc:0.683452\n",
      "[106]\ttrain-auc:0.756561\teval-auc:0.683558\n",
      "[107]\ttrain-auc:0.756964\teval-auc:0.683568\n",
      "[108]\ttrain-auc:0.757612\teval-auc:0.683604\n",
      "[109]\ttrain-auc:0.758103\teval-auc:0.683626\n",
      "[110]\ttrain-auc:0.758932\teval-auc:0.683686\n",
      "[111]\ttrain-auc:0.759405\teval-auc:0.683728\n",
      "[112]\ttrain-auc:0.760094\teval-auc:0.683743\n",
      "[113]\ttrain-auc:0.760534\teval-auc:0.683829\n",
      "[114]\ttrain-auc:0.761012\teval-auc:0.683896\n",
      "[115]\ttrain-auc:0.761284\teval-auc:0.68396\n",
      "[116]\ttrain-auc:0.761812\teval-auc:0.684005\n",
      "[117]\ttrain-auc:0.762081\teval-auc:0.684018\n",
      "[118]\ttrain-auc:0.762523\teval-auc:0.68398\n",
      "[119]\ttrain-auc:0.762959\teval-auc:0.684009\n",
      "[120]\ttrain-auc:0.763212\teval-auc:0.683996\n",
      "[121]\ttrain-auc:0.76365\teval-auc:0.684\n",
      "[122]\ttrain-auc:0.76373\teval-auc:0.683993\n",
      "[123]\ttrain-auc:0.764326\teval-auc:0.684114\n",
      "[124]\ttrain-auc:0.764778\teval-auc:0.684142\n",
      "[125]\ttrain-auc:0.765424\teval-auc:0.684211\n",
      "[126]\ttrain-auc:0.765843\teval-auc:0.684242\n",
      "[127]\ttrain-auc:0.76627\teval-auc:0.684369\n",
      "[128]\ttrain-auc:0.766486\teval-auc:0.684308\n",
      "[129]\ttrain-auc:0.767182\teval-auc:0.684323\n",
      "[130]\ttrain-auc:0.767534\teval-auc:0.68438\n",
      "[131]\ttrain-auc:0.767968\teval-auc:0.684461\n",
      "[132]\ttrain-auc:0.768124\teval-auc:0.684518\n",
      "[133]\ttrain-auc:0.768575\teval-auc:0.684457\n",
      "[134]\ttrain-auc:0.768922\teval-auc:0.684543\n",
      "[135]\ttrain-auc:0.76936\teval-auc:0.68451\n",
      "[136]\ttrain-auc:0.769951\teval-auc:0.684357\n",
      "[137]\ttrain-auc:0.770279\teval-auc:0.684445\n",
      "[138]\ttrain-auc:0.770789\teval-auc:0.68443\n",
      "[139]\ttrain-auc:0.771123\teval-auc:0.684515\n",
      "[140]\ttrain-auc:0.77128\teval-auc:0.684509\n",
      "[141]\ttrain-auc:0.771805\teval-auc:0.684547\n",
      "[142]\ttrain-auc:0.772131\teval-auc:0.684541\n",
      "[143]\ttrain-auc:0.772656\teval-auc:0.684638\n",
      "[144]\ttrain-auc:0.773236\teval-auc:0.684717\n",
      "[145]\ttrain-auc:0.773738\teval-auc:0.684648\n",
      "[146]\ttrain-auc:0.77426\teval-auc:0.684807\n",
      "[147]\ttrain-auc:0.774478\teval-auc:0.684828\n",
      "[148]\ttrain-auc:0.774756\teval-auc:0.684742\n",
      "[149]\ttrain-auc:0.775041\teval-auc:0.684749\n",
      "[150]\ttrain-auc:0.775548\teval-auc:0.684826\n",
      "[151]\ttrain-auc:0.776095\teval-auc:0.684928\n",
      "[152]\ttrain-auc:0.776315\teval-auc:0.684965\n",
      "[153]\ttrain-auc:0.776706\teval-auc:0.685029\n",
      "[154]\ttrain-auc:0.776936\teval-auc:0.685083\n",
      "[155]\ttrain-auc:0.777357\teval-auc:0.685212\n",
      "[156]\ttrain-auc:0.777723\teval-auc:0.685237\n",
      "[157]\ttrain-auc:0.778343\teval-auc:0.685169\n",
      "[158]\ttrain-auc:0.778588\teval-auc:0.685091\n",
      "[159]\ttrain-auc:0.778808\teval-auc:0.685218\n",
      "[160]\ttrain-auc:0.779208\teval-auc:0.685233\n",
      "[161]\ttrain-auc:0.77963\teval-auc:0.685179\n",
      "[162]\ttrain-auc:0.779673\teval-auc:0.685242\n",
      "[163]\ttrain-auc:0.779908\teval-auc:0.685281\n",
      "[164]\ttrain-auc:0.780309\teval-auc:0.685346\n",
      "[165]\ttrain-auc:0.780577\teval-auc:0.685423\n",
      "[166]\ttrain-auc:0.780756\teval-auc:0.685408\n",
      "[167]\ttrain-auc:0.781122\teval-auc:0.685347\n",
      "[168]\ttrain-auc:0.78152\teval-auc:0.685323\n",
      "[169]\ttrain-auc:0.781714\teval-auc:0.685319\n",
      "[170]\ttrain-auc:0.782077\teval-auc:0.685368\n",
      "[171]\ttrain-auc:0.782537\teval-auc:0.685328\n",
      "[172]\ttrain-auc:0.783063\teval-auc:0.685338\n",
      "[173]\ttrain-auc:0.783192\teval-auc:0.68535\n",
      "[174]\ttrain-auc:0.783402\teval-auc:0.685307\n",
      "[175]\ttrain-auc:0.783728\teval-auc:0.685269\n",
      "[176]\ttrain-auc:0.78397\teval-auc:0.685216\n",
      "[177]\ttrain-auc:0.784616\teval-auc:0.68522\n",
      "[178]\ttrain-auc:0.784853\teval-auc:0.68525\n",
      "[179]\ttrain-auc:0.785299\teval-auc:0.685147\n",
      "[180]\ttrain-auc:0.785494\teval-auc:0.685173\n",
      "[181]\ttrain-auc:0.785985\teval-auc:0.685202\n",
      "[182]\ttrain-auc:0.786287\teval-auc:0.685149\n",
      "[183]\ttrain-auc:0.786408\teval-auc:0.685187\n",
      "[184]\ttrain-auc:0.786672\teval-auc:0.685212\n",
      "[185]\ttrain-auc:0.787293\teval-auc:0.685332\n",
      "[186]\ttrain-auc:0.787803\teval-auc:0.685376\n",
      "[187]\ttrain-auc:0.787955\teval-auc:0.685348\n",
      "[188]\ttrain-auc:0.788154\teval-auc:0.685394\n",
      "[189]\ttrain-auc:0.788577\teval-auc:0.685309\n",
      "[190]\ttrain-auc:0.788874\teval-auc:0.685291\n"
     ]
    },
    {
     "name": "stdout",
     "output_type": "stream",
     "text": [
      "[191]\ttrain-auc:0.789196\teval-auc:0.685276\n",
      "[192]\ttrain-auc:0.78954\teval-auc:0.685164\n",
      "[193]\ttrain-auc:0.789953\teval-auc:0.685051\n",
      "[194]\ttrain-auc:0.790149\teval-auc:0.685092\n",
      "[195]\ttrain-auc:0.790507\teval-auc:0.685052\n",
      "[196]\ttrain-auc:0.791097\teval-auc:0.685107\n",
      "[197]\ttrain-auc:0.791801\teval-auc:0.68506\n",
      "[198]\ttrain-auc:0.791924\teval-auc:0.685032\n",
      "[199]\ttrain-auc:0.792484\teval-auc:0.685081\n",
      "[200]\ttrain-auc:0.793018\teval-auc:0.685122\n",
      "[201]\ttrain-auc:0.793355\teval-auc:0.685292\n",
      "[202]\ttrain-auc:0.793787\teval-auc:0.685337\n",
      "[203]\ttrain-auc:0.793964\teval-auc:0.685257\n",
      "[204]\ttrain-auc:0.794264\teval-auc:0.685263\n",
      "[205]\ttrain-auc:0.794591\teval-auc:0.685254\n",
      "[206]\ttrain-auc:0.794875\teval-auc:0.685327\n",
      "[207]\ttrain-auc:0.795625\teval-auc:0.685317\n",
      "[208]\ttrain-auc:0.795917\teval-auc:0.685399\n",
      "[209]\ttrain-auc:0.796262\teval-auc:0.685397\n",
      "[210]\ttrain-auc:0.796555\teval-auc:0.685428\n",
      "[211]\ttrain-auc:0.796687\teval-auc:0.685489\n",
      "[212]\ttrain-auc:0.796989\teval-auc:0.685578\n",
      "[213]\ttrain-auc:0.797391\teval-auc:0.685545\n",
      "[214]\ttrain-auc:0.79776\teval-auc:0.685511\n",
      "[215]\ttrain-auc:0.798274\teval-auc:0.685505\n",
      "[216]\ttrain-auc:0.798502\teval-auc:0.685455\n",
      "[217]\ttrain-auc:0.799011\teval-auc:0.685418\n",
      "[218]\ttrain-auc:0.799339\teval-auc:0.685388\n",
      "[219]\ttrain-auc:0.799807\teval-auc:0.685377\n",
      "[220]\ttrain-auc:0.800316\teval-auc:0.685465\n",
      "[221]\ttrain-auc:0.800867\teval-auc:0.68538\n",
      "[222]\ttrain-auc:0.801119\teval-auc:0.685394\n",
      "[223]\ttrain-auc:0.801347\teval-auc:0.68532\n",
      "[224]\ttrain-auc:0.801733\teval-auc:0.685352\n",
      "[225]\ttrain-auc:0.802077\teval-auc:0.685282\n",
      "[226]\ttrain-auc:0.802146\teval-auc:0.68522\n",
      "[227]\ttrain-auc:0.802647\teval-auc:0.685172\n",
      "[228]\ttrain-auc:0.803167\teval-auc:0.685095\n",
      "[229]\ttrain-auc:0.803311\teval-auc:0.685139\n",
      "[230]\ttrain-auc:0.803605\teval-auc:0.685174\n",
      "[231]\ttrain-auc:0.804025\teval-auc:0.68522\n",
      "[232]\ttrain-auc:0.804403\teval-auc:0.685186\n",
      "[233]\ttrain-auc:0.804665\teval-auc:0.685164\n",
      "[234]\ttrain-auc:0.804943\teval-auc:0.685012\n",
      "[235]\ttrain-auc:0.805366\teval-auc:0.685016\n",
      "[236]\ttrain-auc:0.805684\teval-auc:0.68494\n",
      "[237]\ttrain-auc:0.806012\teval-auc:0.684924\n",
      "[238]\ttrain-auc:0.806205\teval-auc:0.684907\n",
      "[239]\ttrain-auc:0.806544\teval-auc:0.684946\n",
      "[240]\ttrain-auc:0.806735\teval-auc:0.684843\n",
      "[241]\ttrain-auc:0.806986\teval-auc:0.684791\n",
      "[242]\ttrain-auc:0.807208\teval-auc:0.684777\n",
      "[243]\ttrain-auc:0.807518\teval-auc:0.684721\n",
      "[244]\ttrain-auc:0.807698\teval-auc:0.684738\n",
      "[245]\ttrain-auc:0.80803\teval-auc:0.684727\n",
      "[246]\ttrain-auc:0.808281\teval-auc:0.684745\n",
      "[247]\ttrain-auc:0.808487\teval-auc:0.684713\n",
      "[248]\ttrain-auc:0.808906\teval-auc:0.684707\n",
      "[249]\ttrain-auc:0.809269\teval-auc:0.684662\n",
      "[250]\ttrain-auc:0.809399\teval-auc:0.684681\n",
      "[251]\ttrain-auc:0.810052\teval-auc:0.684678\n",
      "[252]\ttrain-auc:0.810259\teval-auc:0.684611\n",
      "[253]\ttrain-auc:0.810436\teval-auc:0.684599\n",
      "[254]\ttrain-auc:0.81078\teval-auc:0.684594\n",
      "[255]\ttrain-auc:0.811003\teval-auc:0.684492\n",
      "[256]\ttrain-auc:0.811183\teval-auc:0.684469\n",
      "[257]\ttrain-auc:0.811629\teval-auc:0.684395\n",
      "[258]\ttrain-auc:0.811973\teval-auc:0.684439\n",
      "[259]\ttrain-auc:0.812512\teval-auc:0.684547\n",
      "[260]\ttrain-auc:0.8128\teval-auc:0.684516\n",
      "[261]\ttrain-auc:0.813421\teval-auc:0.684565\n",
      "[262]\ttrain-auc:0.813736\teval-auc:0.684593\n",
      "Stopping. Best iteration:\n",
      "[212]\ttrain-auc:0.796989\teval-auc:0.685578\n",
      "\n"
     ]
    }
   ],
   "source": [
    "watchlist = [(dtrain, 'train'), (dvalid, 'eval')]\n",
    "num_boost_round = 1500\n",
    "gbm = xgb.train(params, dtrain, num_boost_round, evals=watchlist,\\\n",
    "  early_stopping_rounds= 50)"
   ]
  },
  {
   "cell_type": "code",
   "execution_count": 160,
   "metadata": {},
   "outputs": [],
   "source": [
    "from sklearn.metrics import roc_curve, auc\n",
    "from sklearn import linear_model, datasets\n",
    "import pylab as pl\n",
    "def draw_ROC(model, dtrain, dvalid, dtest, y_train, y_valid, y_test ):\n",
    "    probas_ = model.predict(dvalid, ntree_limit=model.best_ntree_limit)\n",
    "    probas_1 = model.predict(dtrain, ntree_limit=model.best_ntree_limit)\n",
    "    probas_2 = model.predict(dtest, ntree_limit=model.best_ntree_limit)\n",
    "    fpr, tpr, thresholds = roc_curve(y_valid, probas_)\n",
    "    fpr_1, tpr_1, thresholds_1 = roc_curve(y_train, probas_1)\n",
    "    fpr_2, tpr_2, thresholds_2 = roc_curve(y_test, probas_2)\n",
    "    roc_auc = auc(fpr, tpr)\n",
    "    roc_auc_1 = auc(fpr_1, tpr_1)\n",
    "    roc_auc_2 = auc(fpr_2, tpr_2)\n",
    "    print (\"Area under the ROC curve - validation: %f\" % roc_auc)\n",
    "    print (\"Area under the ROC curve - train: %f\" % roc_auc_1)\n",
    "    print (\"Area under the ROC curve - test: %f\" % roc_auc_2)\n",
    "    # Plot ROC curve\n",
    "    plt.figure(figsize=(8,8))\n",
    "    plt.plot(fpr, tpr, label='ROC curve - test(AUC = %0.2f)' % roc_auc, color='r')\n",
    "    plt.plot(fpr_1, tpr_1, label='ROC curve - train (AUC = %0.2f)' % roc_auc_1, color='b')\n",
    "    plt.plot(fpr_2, tpr_2, label='ROC curve - train (AUC = %0.2f)' % roc_auc_2, color='g')\n",
    "    plt.plot([0, 1], [0, 1], 'k--')\n",
    "    plt.xlim([0.0, 1.0])\n",
    "    plt.ylim([0.0, 1.0])\n",
    "    plt.xlabel('False Positive Rate')\n",
    "    plt.ylabel('True Positive Rate')\n",
    "    plt.title('ROC for lead score model')\n",
    "    plt.legend(loc=\"lower right\")\n",
    "    plt.show()"
   ]
  },
  {
   "cell_type": "markdown",
   "metadata": {},
   "source": [
    "### ROC curve"
   ]
  },
  {
   "cell_type": "code",
   "execution_count": 161,
   "metadata": {},
   "outputs": [
    {
     "name": "stdout",
     "output_type": "stream",
     "text": [
      "Area under the ROC curve - validation: 0.685578\n",
      "Area under the ROC curve - train: 0.796989\n",
      "Area under the ROC curve - test: 0.697698\n"
     ]
    },
    {
     "data": {
      "image/png": "[encoded data removed]",
      "text/plain": [
       "<matplotlib.figure.Figure at 0x1f2d9f9df60>"
      ]
     },
     "metadata": {},
     "output_type": "display_data"
    }
   ],
   "source": [
    "draw_ROC(gbm, dtrain, dvalid, dtest, y_train, y_valid, y_test)"
   ]
  },
  {
   "cell_type": "markdown",
   "metadata": {},
   "source": [
    "### Distribution of predicted values"
   ]
  },
  {
   "cell_type": "code",
   "execution_count": 162,
   "metadata": {},
   "outputs": [],
   "source": [
    "y_pred = gbm.predict(dtest)"
   ]
  },
  {
   "cell_type": "code",
   "execution_count": 164,
   "metadata": {},
   "outputs": [
    {
     "name": "stdout",
     "output_type": "stream",
     "text": [
      "0.766327 0.00608738 0.136269\n"
     ]
    }
   ],
   "source": [
    "print (y_pred.max(), y_pred.min(), y_pred.mean())"
   ]
  },
  {
   "cell_type": "code",
   "execution_count": null,
   "metadata": {
    "collapsed": true
   },
   "outputs": [],
   "source": []
  },
  {
   "cell_type": "markdown",
   "metadata": {},
   "source": [
    "### Feature importance"
   ]
  },
  {
   "cell_type": "code",
   "execution_count": 165,
   "metadata": {},
   "outputs": [],
   "source": [
    "importance=gbm.get_fscore()"
   ]
  },
  {
   "cell_type": "code",
   "execution_count": 180,
   "metadata": {},
   "outputs": [
    {
     "data": {
      "text/plain": [
       "{'accnowdelinq': 1,\n",
       " 'accopenpast24mths': 181,\n",
       " 'addrstate_freq': 138,\n",
       " 'annualinc': 382,\n",
       " 'avgcurbal': 294,\n",
       " 'bcopentobuy': 331,\n",
       " 'bcutil': 296,\n",
       " 'chargeoffwithin12mths': 3,\n",
       " 'collections12mthsexmed': 4,\n",
       " 'delinq2yrs': 28,\n",
       " 'dti': 450,\n",
       " 'earliestcrline_month': 257,\n",
       " 'emplength': 170,\n",
       " 'emptitle_freq': 292,\n",
       " 'grade': 43,\n",
       " 'homeownership_MORTGAGE': 24,\n",
       " 'homeownership_OWN': 10,\n",
       " 'homeownership_RENT': 45,\n",
       " 'initialliststatus_f': 31,\n",
       " 'initialliststatus_w': 11,\n",
       " 'inqlast6mths': 79,\n",
       " 'installment': 408,\n",
       " 'intrate': 239,\n",
       " 'loanamnt': 203,\n",
       " 'mortacc': 74,\n",
       " 'mosinoldilacct': 360,\n",
       " 'mosinoldrevtlop': 369,\n",
       " 'mosinrcntrevtlop': 159,\n",
       " 'mosinrcnttl': 117,\n",
       " 'mthssincelastdelinq': 226,\n",
       " 'mthssincelastmajorderog': 174,\n",
       " 'mthssincelastrecord': 136,\n",
       " 'mthssincerecentbc': 234,\n",
       " 'mthssincerecentbcdlq': 165,\n",
       " 'mthssincerecentinq': 220,\n",
       " 'mthssincerecentrevoldelinq': 148,\n",
       " 'numacctsever120pd': 29,\n",
       " 'numactvbctl': 61,\n",
       " 'numactvrevtl': 52,\n",
       " 'numbcsats': 72,\n",
       " 'numbctl': 91,\n",
       " 'numiltl': 133,\n",
       " 'numoprevtl': 83,\n",
       " 'numrevaccts': 131,\n",
       " 'numrevtlbalgt0': 66,\n",
       " 'numsats': 83,\n",
       " 'numtl120dpd2m': 4,\n",
       " 'numtl30dpd': 1,\n",
       " 'numtl90gdpd24m': 6,\n",
       " 'numtloppast12m': 96,\n",
       " 'openacc': 81,\n",
       " 'pcttlnvrdlq': 181,\n",
       " 'percentbcgt75': 129,\n",
       " 'pubrec': 11,\n",
       " 'pubrecbankruptcies': 8,\n",
       " 'purpose_credit_card': 5,\n",
       " 'purpose_debt_consolidation': 24,\n",
       " 'purpose_home_improvement': 9,\n",
       " 'purpose_major_purchase': 1,\n",
       " 'purpose_medical': 15,\n",
       " 'purpose_moving': 3,\n",
       " 'purpose_other': 3,\n",
       " 'purpose_small_business': 19,\n",
       " 'purpose_vacation': 1,\n",
       " 'revolbal': 222,\n",
       " 'revolutil': 237,\n",
       " 'subgrade': 176,\n",
       " 'taxliens': 8,\n",
       " 'totalacc': 137,\n",
       " 'totalbalexmort': 224,\n",
       " 'totalbclimit': 266,\n",
       " 'totalilhighcreditlimit': 236,\n",
       " 'totalrevhilim': 237,\n",
       " 'totcollamt': 111,\n",
       " 'totcurbal': 187,\n",
       " 'tothicredlim': 272,\n",
       " 'verificationstatus_Not Verified': 16,\n",
       " 'verificationstatus_Source Verified': 28,\n",
       " 'verificationstatus_Verified': 21,\n",
       " 'zipcode': 297,\n",
       " 'zipcode_freq': 250}"
      ]
     },
     "execution_count": 180,
     "metadata": {},
     "output_type": "execute_result"
    }
   ],
   "source": [
    "importance"
   ]
  },
  {
   "cell_type": "code",
   "execution_count": 179,
   "metadata": {},
   "outputs": [
    {
     "ename": "TypeError",
     "evalue": "from_dict() got an unexpected keyword argument 'columns'",
     "output_type": "error",
     "traceback": [
      "\u001b[1;31m---------------------------------------------------------------------------\u001b[0m",
      "\u001b[1;31mTypeError\u001b[0m                                 Traceback (most recent call last)",
      "\u001b[1;32m<ipython-input-179-1413b21bea68>\u001b[0m in \u001b[0;36m<module>\u001b[1;34m()\u001b[0m\n\u001b[1;32m----> 1\u001b[1;33m \u001b[0mpd\u001b[0m\u001b[1;33m.\u001b[0m\u001b[0mDataFrame\u001b[0m\u001b[1;33m.\u001b[0m\u001b[0mfrom_dict\u001b[0m\u001b[1;33m(\u001b[0m\u001b[0mimportance\u001b[0m\u001b[1;33m.\u001b[0m\u001b[0mitems\u001b[0m\u001b[1;33m(\u001b[0m\u001b[1;33m)\u001b[0m\u001b[1;33m,\u001b[0m \u001b[0mcolumns\u001b[0m\u001b[1;33m=\u001b[0m\u001b[1;33m[\u001b[0m\u001b[1;34m'feature'\u001b[0m\u001b[1;33m,\u001b[0m \u001b[1;34m'fscore'\u001b[0m\u001b[1;33m]\u001b[0m\u001b[1;33m)\u001b[0m\u001b[1;33m\u001b[0m\u001b[0m\n\u001b[0m",
      "\u001b[1;31mTypeError\u001b[0m: from_dict() got an unexpected keyword argument 'columns'"
     ]
    }
   ],
   "source": [
    "pd.DataFrame.from_dict(importance.items(), columns=['feature', 'fscore'])"
   ]
  },
  {
   "cell_type": "code",
   "execution_count": 168,
   "metadata": {},
   "outputs": [
    {
     "ename": "ValueError",
     "evalue": "DataFrame constructor not properly called!",
     "output_type": "error",
     "traceback": [
      "\u001b[1;31m---------------------------------------------------------------------------\u001b[0m",
      "\u001b[1;31mValueError\u001b[0m                                Traceback (most recent call last)",
      "\u001b[1;32m<ipython-input-168-121b8b4bcb82>\u001b[0m in \u001b[0;36m<module>\u001b[1;34m()\u001b[0m\n\u001b[1;32m----> 1\u001b[1;33m \u001b[0mdf_importance\u001b[0m \u001b[1;33m=\u001b[0m \u001b[0mpd\u001b[0m\u001b[1;33m.\u001b[0m\u001b[0mDataFrame\u001b[0m\u001b[1;33m(\u001b[0m\u001b[0mimportance\u001b[0m\u001b[1;33m.\u001b[0m\u001b[0mitems\u001b[0m\u001b[1;33m(\u001b[0m\u001b[1;33m)\u001b[0m\u001b[1;33m,\u001b[0m \u001b[0mcolumns\u001b[0m\u001b[1;33m=\u001b[0m\u001b[1;33m[\u001b[0m\u001b[1;34m'feature'\u001b[0m\u001b[1;33m,\u001b[0m \u001b[1;34m'fscore'\u001b[0m\u001b[1;33m]\u001b[0m\u001b[1;33m)\u001b[0m\u001b[1;33m\u001b[0m\u001b[0m\n\u001b[0m",
      "\u001b[1;32m~\\Anaconda2\\envs\\py36\\lib\\site-packages\\pandas\\core\\frame.py\u001b[0m in \u001b[0;36m__init__\u001b[1;34m(self, data, index, columns, dtype, copy)\u001b[0m\n\u001b[0;32m    402\u001b[0m                                          dtype=values.dtype, copy=False)\n\u001b[0;32m    403\u001b[0m             \u001b[1;32melse\u001b[0m\u001b[1;33m:\u001b[0m\u001b[1;33m\u001b[0m\u001b[0m\n\u001b[1;32m--> 404\u001b[1;33m                 \u001b[1;32mraise\u001b[0m \u001b[0mValueError\u001b[0m\u001b[1;33m(\u001b[0m\u001b[1;34m'DataFrame constructor not properly called!'\u001b[0m\u001b[1;33m)\u001b[0m\u001b[1;33m\u001b[0m\u001b[0m\n\u001b[0m\u001b[0;32m    405\u001b[0m \u001b[1;33m\u001b[0m\u001b[0m\n\u001b[0;32m    406\u001b[0m         \u001b[0mNDFrame\u001b[0m\u001b[1;33m.\u001b[0m\u001b[0m__init__\u001b[0m\u001b[1;33m(\u001b[0m\u001b[0mself\u001b[0m\u001b[1;33m,\u001b[0m \u001b[0mmgr\u001b[0m\u001b[1;33m,\u001b[0m \u001b[0mfastpath\u001b[0m\u001b[1;33m=\u001b[0m\u001b[1;32mTrue\u001b[0m\u001b[1;33m)\u001b[0m\u001b[1;33m\u001b[0m\u001b[0m\n",
      "\u001b[1;31mValueError\u001b[0m: DataFrame constructor not properly called!"
     ]
    }
   ],
   "source": [
    "df_importance = pd.DataFrame(importance.items(), columns=['feature', 'fscore'])"
   ]
  },
  {
   "cell_type": "code",
   "execution_count": 166,
   "metadata": {},
   "outputs": [
    {
     "ename": "ValueError",
     "evalue": "DataFrame constructor not properly called!",
     "output_type": "error",
     "traceback": [
      "\u001b[1;31m---------------------------------------------------------------------------\u001b[0m",
      "\u001b[1;31mValueError\u001b[0m                                Traceback (most recent call last)",
      "\u001b[1;32m<ipython-input-166-3543763623b2>\u001b[0m in \u001b[0;36m<module>\u001b[1;34m()\u001b[0m\n\u001b[1;32m----> 1\u001b[1;33m \u001b[0mdf_importance\u001b[0m \u001b[1;33m=\u001b[0m \u001b[0mpd\u001b[0m\u001b[1;33m.\u001b[0m\u001b[0mDataFrame\u001b[0m\u001b[1;33m(\u001b[0m\u001b[0mimportance\u001b[0m\u001b[1;33m.\u001b[0m\u001b[0mitems\u001b[0m\u001b[1;33m(\u001b[0m\u001b[1;33m)\u001b[0m\u001b[1;33m,\u001b[0m \u001b[0mcolumns\u001b[0m\u001b[1;33m=\u001b[0m\u001b[1;33m[\u001b[0m\u001b[1;34m'feature'\u001b[0m\u001b[1;33m,\u001b[0m \u001b[1;34m'fscore'\u001b[0m\u001b[1;33m]\u001b[0m\u001b[1;33m)\u001b[0m\u001b[1;33m\u001b[0m\u001b[0m\n\u001b[0m\u001b[0;32m      2\u001b[0m \u001b[0mdf_importance\u001b[0m\u001b[1;33m[\u001b[0m\u001b[1;34m'fscore'\u001b[0m\u001b[1;33m]\u001b[0m \u001b[1;33m=\u001b[0m \u001b[0mdf_importance\u001b[0m\u001b[1;33m[\u001b[0m\u001b[1;34m'fscore'\u001b[0m\u001b[1;33m]\u001b[0m \u001b[1;33m/\u001b[0m \u001b[0mdf_importance\u001b[0m\u001b[1;33m[\u001b[0m\u001b[1;34m'fscore'\u001b[0m\u001b[1;33m]\u001b[0m\u001b[1;33m.\u001b[0m\u001b[0msum\u001b[0m\u001b[1;33m(\u001b[0m\u001b[1;33m)\u001b[0m\u001b[1;33m\u001b[0m\u001b[0m\n",
      "\u001b[1;32m~\\Anaconda2\\envs\\py36\\lib\\site-packages\\pandas\\core\\frame.py\u001b[0m in \u001b[0;36m__init__\u001b[1;34m(self, data, index, columns, dtype, copy)\u001b[0m\n\u001b[0;32m    402\u001b[0m                                          dtype=values.dtype, copy=False)\n\u001b[0;32m    403\u001b[0m             \u001b[1;32melse\u001b[0m\u001b[1;33m:\u001b[0m\u001b[1;33m\u001b[0m\u001b[0m\n\u001b[1;32m--> 404\u001b[1;33m                 \u001b[1;32mraise\u001b[0m \u001b[0mValueError\u001b[0m\u001b[1;33m(\u001b[0m\u001b[1;34m'DataFrame constructor not properly called!'\u001b[0m\u001b[1;33m)\u001b[0m\u001b[1;33m\u001b[0m\u001b[0m\n\u001b[0m\u001b[0;32m    405\u001b[0m \u001b[1;33m\u001b[0m\u001b[0m\n\u001b[0;32m    406\u001b[0m         \u001b[0mNDFrame\u001b[0m\u001b[1;33m.\u001b[0m\u001b[0m__init__\u001b[0m\u001b[1;33m(\u001b[0m\u001b[0mself\u001b[0m\u001b[1;33m,\u001b[0m \u001b[0mmgr\u001b[0m\u001b[1;33m,\u001b[0m \u001b[0mfastpath\u001b[0m\u001b[1;33m=\u001b[0m\u001b[1;32mTrue\u001b[0m\u001b[1;33m)\u001b[0m\u001b[1;33m\u001b[0m\u001b[0m\n",
      "\u001b[1;31mValueError\u001b[0m: DataFrame constructor not properly called!"
     ]
    }
   ],
   "source": [
    "\n",
    "df_importance['fscore'] = df_importance['fscore'] / df_importance['fscore'].sum()"
   ]
  },
  {
   "cell_type": "code",
   "execution_count": 167,
   "metadata": {
    "scrolled": false
   },
   "outputs": [
    {
     "ename": "NameError",
     "evalue": "name 'df_importance' is not defined",
     "output_type": "error",
     "traceback": [
      "\u001b[1;31m---------------------------------------------------------------------------\u001b[0m",
      "\u001b[1;31mNameError\u001b[0m                                 Traceback (most recent call last)",
      "\u001b[1;32m<ipython-input-167-6ca11b1d17d9>\u001b[0m in \u001b[0;36m<module>\u001b[1;34m()\u001b[0m\n\u001b[1;32m----> 1\u001b[1;33m \u001b[0mdf_importance\u001b[0m\u001b[1;33m.\u001b[0m\u001b[0msort_values\u001b[0m\u001b[1;33m(\u001b[0m\u001b[1;33m[\u001b[0m\u001b[1;34m'fscore'\u001b[0m\u001b[1;33m]\u001b[0m\u001b[1;33m,\u001b[0m \u001b[0mascending\u001b[0m\u001b[1;33m=\u001b[0m\u001b[1;32mFalse\u001b[0m\u001b[1;33m,\u001b[0m \u001b[0minplace\u001b[0m\u001b[1;33m=\u001b[0m\u001b[1;32mTrue\u001b[0m\u001b[1;33m)\u001b[0m\u001b[1;33m\u001b[0m\u001b[0m\n\u001b[0m\u001b[0;32m      2\u001b[0m \u001b[0mdf_importance\u001b[0m\u001b[1;33m\u001b[0m\u001b[0m\n",
      "\u001b[1;31mNameError\u001b[0m: name 'df_importance' is not defined"
     ]
    }
   ],
   "source": [
    "df_importance.sort_values(['fscore'], ascending=False, inplace=True)\n",
    "df_importance"
   ]
  },
  {
   "cell_type": "code",
   "execution_count": 103,
   "metadata": {},
   "outputs": [
    {
     "data": {
      "text/plain": [
       "<matplotlib.figure.Figure at 0x189f9c18>"
      ]
     },
     "metadata": {},
     "output_type": "display_data"
    },
    {
     "data": {
      "image/png": "[encoded data removed]",
      "text/plain": [
       "<matplotlib.figure.Figure at 0x189d5240>"
      ]
     },
     "metadata": {},
     "output_type": "display_data"
    }
   ],
   "source": [
    "plt.figure(figsize=(32, 32))\n",
    "# df_importance.plot()\n",
    "df_importance[:20].plot(kind='barh', x='feature', y='fscore', legend=False, figsize=(6, 10))\n",
    "plt.title('XGBoost Feature Importance')\n",
    "plt.xlabel('relative importance')\n",
    "plt.gcf().savefig('feature_importance_xgb.png')"
   ]
  },
  {
   "cell_type": "code",
   "execution_count": 104,
   "metadata": {},
   "outputs": [
    {
     "data": {
      "text/html": [
       "<div>\n",
       "<table border=\"1\" class=\"dataframe\">\n",
       "  <thead>\n",
       "    <tr style=\"text-align: right;\">\n",
       "      <th></th>\n",
       "      <th>feature</th>\n",
       "      <th>fscore</th>\n",
       "    </tr>\n",
       "  </thead>\n",
       "  <tbody>\n",
       "    <tr>\n",
       "      <th>6</th>\n",
       "      <td>grade</td>\n",
       "      <td>0.004924</td>\n",
       "    </tr>\n",
       "  </tbody>\n",
       "</table>\n",
       "</div>"
      ],
      "text/plain": [
       "  feature    fscore\n",
       "6   grade  0.004924"
      ]
     },
     "execution_count": 104,
     "metadata": {},
     "output_type": "execute_result"
    }
   ],
   "source": [
    "grade_importance = df_importance.query(\"feature=='grade'\")\n",
    "grade_importance"
   ]
  },
  {
   "cell_type": "code",
   "execution_count": 105,
   "metadata": {},
   "outputs": [
    {
     "data": {
      "text/html": [
       "<div>\n",
       "<table border=\"1\" class=\"dataframe\">\n",
       "  <thead>\n",
       "    <tr style=\"text-align: right;\">\n",
       "      <th></th>\n",
       "      <th>feature</th>\n",
       "      <th>fscore</th>\n",
       "    </tr>\n",
       "  </thead>\n",
       "  <tbody>\n",
       "    <tr>\n",
       "      <th>12</th>\n",
       "      <td>subgrade</td>\n",
       "      <td>0.015027</td>\n",
       "    </tr>\n",
       "  </tbody>\n",
       "</table>\n",
       "</div>"
      ],
      "text/plain": [
       "     feature    fscore\n",
       "12  subgrade  0.015027"
      ]
     },
     "execution_count": 105,
     "metadata": {},
     "output_type": "execute_result"
    }
   ],
   "source": [
    "subgrade_importance = df_importance.query(\"feature=='subgrade'\")\n",
    "subgrade_importance"
   ]
  },
  {
   "cell_type": "code",
   "execution_count": 106,
   "metadata": {},
   "outputs": [
    {
     "data": {
      "text/html": [
       "<div>\n",
       "<table border=\"1\" class=\"dataframe\">\n",
       "  <thead>\n",
       "    <tr style=\"text-align: right;\">\n",
       "      <th></th>\n",
       "      <th>feature</th>\n",
       "      <th>fscore</th>\n",
       "    </tr>\n",
       "  </thead>\n",
       "  <tbody>\n",
       "    <tr>\n",
       "      <th>59</th>\n",
       "      <td>intrate</td>\n",
       "      <td>0.021988</td>\n",
       "    </tr>\n",
       "  </tbody>\n",
       "</table>\n",
       "</div>"
      ],
      "text/plain": [
       "    feature    fscore\n",
       "59  intrate  0.021988"
      ]
     },
     "execution_count": 106,
     "metadata": {},
     "output_type": "execute_result"
    }
   ],
   "source": [
    "intrate_importance = df_importance.query(\"feature=='intrate'\")\n",
    "intrate_importance"
   ]
  },
  {
   "cell_type": "code",
   "execution_count": 107,
   "metadata": {},
   "outputs": [
    {
     "data": {
      "text/html": [
       "<div>\n",
       "<table border=\"1\" class=\"dataframe\">\n",
       "  <thead>\n",
       "    <tr style=\"text-align: right;\">\n",
       "      <th></th>\n",
       "      <th>feature</th>\n",
       "      <th>fscore</th>\n",
       "    </tr>\n",
       "  </thead>\n",
       "  <tbody>\n",
       "    <tr>\n",
       "      <th>54</th>\n",
       "      <td>loanamnt</td>\n",
       "      <td>0.017574</td>\n",
       "    </tr>\n",
       "  </tbody>\n",
       "</table>\n",
       "</div>"
      ],
      "text/plain": [
       "     feature    fscore\n",
       "54  loanamnt  0.017574"
      ]
     },
     "execution_count": 107,
     "metadata": {},
     "output_type": "execute_result"
    }
   ],
   "source": [
    "df_importance.query(\"feature=='loanamnt'\")"
   ]
  },
  {
   "cell_type": "code",
   "execution_count": 108,
   "metadata": {},
   "outputs": [
    {
     "data": {
      "text/plain": [
       "<matplotlib.text.Text at 0x14eef710>"
      ]
     },
     "execution_count": 108,
     "metadata": {},
     "output_type": "execute_result"
    },
    {
     "data": {
      "text/plain": [
       "<matplotlib.figure.Figure at 0x11086780>"
      ]
     },
     "metadata": {},
     "output_type": "display_data"
    },
    {
     "data": {
      "image/png": "[encoded data removed]",
      "text/plain": [
       "<matplotlib.figure.Figure at 0x14eef4e0>"
      ]
     },
     "metadata": {},
     "output_type": "display_data"
    }
   ],
   "source": [
    "plt.figure(figsize=(32, 32))\n",
    "# df_importance.plot()\n",
    "df_importance.plot(kind='barh', x='feature', y='fscore', legend=False, figsize=(6, 10))\n",
    "plt.title('XGBoost Feature Importance')\n",
    "plt.xlabel('relative importance')"
   ]
  },
  {
   "cell_type": "markdown",
   "metadata": {},
   "source": [
    "## Save model"
   ]
  },
  {
   "cell_type": "code",
   "execution_count": 109,
   "metadata": {
    "collapsed": true
   },
   "outputs": [],
   "source": [
    "import pickle"
   ]
  },
  {
   "cell_type": "code",
   "execution_count": 110,
   "metadata": {
    "collapsed": true
   },
   "outputs": [],
   "source": [
    "pickle.dump(gbm, open('model.pkl', \"wb\"))"
   ]
  },
  {
   "cell_type": "code",
   "execution_count": 111,
   "metadata": {},
   "outputs": [
    {
     "data": {
      "text/plain": [
       "['pima.joblib.dat']"
      ]
     },
     "execution_count": 111,
     "metadata": {},
     "output_type": "execute_result"
    }
   ],
   "source": [
    "from sklearn.externals import joblib\n",
    "joblib.dump(gb\\and 2\")"
   ]
  },
  {
   "cell_type": "code",
   "execution_count": null,
   "metadata": {
    "collapsed": true
   },
   "outputs": [],
   "source": [
    "with open('model.pkl', 'w') as outfile:\n",
    "  \n",
    "    pickle.dump(gbm, outfile)"
   ]
  }
 ],
 "metadata": {
  "anaconda-cloud": {},
  "kernelspec": {
   "display_name": "Python 3",
   "language": "python",
   "name": "python3"
  },
  "language_info": {
   "codemirror_mode": {
    "name": "ipython",
    "version": 3
   },
   "file_extension": ".py",
   "mimetype": "text/x-python",
   "name": "python",
   "nbconvert_exporter": "python",
   "pygments_lexer": "ipython3",
   "version": "3.6.0"
  },
  "toc": {
   "nav_menu": {},
   "number_sections": true,
   "sideBar": true,
   "skip_h1_title": false,
   "toc_cell": false,
   "toc_position": {},
   "toc_section_display": "block",
   "toc_window_display": false
  }
 },
 "nbformat": 4,
 "nbformat_minor": 1
}
