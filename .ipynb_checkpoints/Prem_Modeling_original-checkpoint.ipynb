{
 "cells": [
  {
   "cell_type": "code",
   "execution_count": 1,
   "metadata": {
    "collapsed": true
   },
   "outputs": [],
   "source": [
    "import pandas as pd\n",
    "import numpy as np\n",
    "import matplotlib.pyplot as plt\n",
    "%matplotlib inline\n",
    "import xgboost as xgb\n",
    "import seaborn as sns"
   ]
  },
  {
   "cell_type": "markdown",
   "metadata": {},
   "source": [
    "## Load Data"
   ]
  },
  {
   "cell_type": "code",
   "execution_count": 2,
   "metadata": {},
   "outputs": [
    {
     "name": "stderr",
     "output_type": "stream",
     "text": [
      "C:\\Users\\Weiqun\\Anaconda2\\lib\\site-packages\\IPython\\core\\interactiveshell.py:2723: DtypeWarning: Columns (29,55) have mixed types. Specify dtype option on import or set low_memory=False.\n",
      "  interactivity=interactivity, compiler=compiler, result=result)\n"
     ]
    }
   ],
   "source": [
    "df1 = pd.read_csv('loan_2014.csv')"
   ]
  },
  {
   "cell_type": "code",
   "execution_count": 3,
   "metadata": {},
   "outputs": [
    {
     "data": {
      "text/plain": [
       "(235631, 95)"
      ]
     },
     "execution_count": 3,
     "metadata": {},
     "output_type": "execute_result"
    }
   ],
   "source": [
    "df1.shape"
   ]
  },
  {
   "cell_type": "code",
   "execution_count": 4,
   "metadata": {},
   "outputs": [
    {
     "name": "stdout",
     "output_type": "stream",
     "text": [
      "<class 'pandas.core.frame.DataFrame'>\n",
      "RangeIndex: 235631 entries, 0 to 235630\n",
      "Data columns (total 95 columns):\n",
      "bcopentobuy                   233184 non-null float64\n",
      "initialliststatus             235629 non-null object\n",
      "numactvbctl                   235629 non-null float64\n",
      "grade                         235629 non-null object\n",
      "mthssincelastrecord           41524 non-null float64\n",
      "totcurbal                     235629 non-null float64\n",
      "totalbalexmort                235629 non-null float64\n",
      "subgrade                      235629 non-null object\n",
      "mosinrcnttl                   235629 non-null float64\n",
      "inqlast12m                    0 non-null float64\n",
      "mortacc                       235629 non-null float64\n",
      "mthssincelastdelinq           119748 non-null float64\n",
      "verificationstatusjoint       0 non-null float64\n",
      "numactvrevtl                  235629 non-null float64\n",
      "tothicredlim                  235629 non-null float64\n",
      "ficorangehigh                 235629 non-null float64\n",
      "maxbalbc                      0 non-null float64\n",
      "bcutil                        233018 non-null float64\n",
      "numbctl                       235629 non-null float64\n",
      "totalrevhilim                 235629 non-null float64\n",
      "totcollamt                    235629 non-null float64\n",
      "numtl120dpd2m                 227769 non-null float64\n",
      "annualincjoint                0 non-null float64\n",
      "earliestcrline                235629 non-null object\n",
      "memberid                      0 non-null float64\n",
      "applicationtype               235629 non-null object\n",
      "intrate                       235629 non-null object\n",
      "ficorangelow                  235629 non-null float64\n",
      "totalacc                      235629 non-null float64\n",
      "desc                          15279 non-null object\n",
      "term                          235629 non-null object\n",
      "mthssincerecentbcdlq          62281 non-null float64\n",
      "homeownership                 235629 non-null object\n",
      "installment                   235629 non-null float64\n",
      "numrevaccts                   235629 non-null float64\n",
      "pubrec                        235629 non-null float64\n",
      "accopenpast24mths             235629 non-null float64\n",
      "numoprevtl                    235629 non-null float64\n",
      "avgcurbal                     235623 non-null float64\n",
      "openil6m                      0 non-null float64\n",
      "addrstate                     235629 non-null object\n",
      "dti                           235629 non-null float64\n",
      "openacc6m                     0 non-null float64\n",
      "totalbalil                    0 non-null float64\n",
      "delinq2yrs                    235629 non-null float64\n",
      "fundedamnt                    235629 non-null float64\n",
      "mosinoldilacct                228458 non-null float64\n",
      "annualinc                     235629 non-null float64\n",
      "revolutil                     235504 non-null object\n",
      "inqfi                         0 non-null float64\n",
      "numtl30dpd                    235629 non-null float64\n",
      "loanamnt                      235629 non-null float64\n",
      "numsats                       235629 non-null float64\n",
      "mthssincerecentrevoldelinq    84766 non-null float64\n",
      "mthssincerecentbc             233383 non-null float64\n",
      "id                            235631 non-null object\n",
      "revolbal                      235629 non-null float64\n",
      "inqlast6mths                  235629 non-null float64\n",
      "mthssincercntil               0 non-null float64\n",
      "openrv24m                     0 non-null float64\n",
      "zipcode                       235629 non-null object\n",
      "verificationstatus            235629 non-null object\n",
      "openrv12m                     0 non-null float64\n",
      "emptitle                      222393 non-null object\n",
      "totalilhighcreditlimit        235629 non-null float64\n",
      "collections12mthsexmed        235629 non-null float64\n",
      "chargeoffwithin12mths         235629 non-null float64\n",
      "numtl90gdpd24m                235629 non-null float64\n",
      "delinqamnt                    235629 non-null float64\n",
      "mosinoldrevtlop               235629 non-null float64\n",
      "taxliens                      235629 non-null float64\n",
      "numbcsats                     235629 non-null float64\n",
      "totalbclimit                  235629 non-null float64\n",
      "dtijoint                      0 non-null float64\n",
      "numacctsever120pd             235629 non-null float64\n",
      "accnowdelinq                  235629 non-null float64\n",
      "openil12m                     0 non-null float64\n",
      "pcttlnvrdlq                   235629 non-null float64\n",
      "emplength                     235629 non-null object\n",
      "openil24m                     0 non-null float64\n",
      "mthssincerecentinq            213937 non-null float64\n",
      "numiltl                       235629 non-null float64\n",
      "mosinrcntrevtlop              235629 non-null float64\n",
      "allutil                       0 non-null float64\n",
      "openacc                       235629 non-null float64\n",
      "numrevtlbalgt0                235629 non-null float64\n",
      "totalcutl                     0 non-null float64\n",
      "mthssincelastmajorderog       66478 non-null float64\n",
      "numtloppast12m                235629 non-null float64\n",
      "percentbcgt75                 233072 non-null float64\n",
      "pubrecbankruptcies            235629 non-null float64\n",
      "ilutil                        0 non-null float64\n",
      "purpose                       235629 non-null object\n",
      "issued                        235629 non-null object\n",
      "loanstatus                    235629 non-null object\n",
      "dtypes: float64(76), object(19)\n",
      "memory usage: 170.8+ MB\n"
     ]
    }
   ],
   "source": [
    "df1.info()"
   ]
  },
  {
   "cell_type": "markdown",
   "metadata": {},
   "source": [
    "## Select Data"
   ]
  },
  {
   "cell_type": "code",
   "execution_count": 5,
   "metadata": {
    "collapsed": true
   },
   "outputs": [],
   "source": [
    "all_null_feature =['inqlast12m',\n",
    " 'verificationstatusjoint',\n",
    " 'maxbalbc',\n",
    " 'annualincjoint',\n",
    " 'memberid',\n",
    " 'openil6m',\n",
    " 'openacc6m',\n",
    " 'totalbalil',\n",
    " 'inqfi',\n",
    " 'mthssincercntil',\n",
    " 'openrv24m',\n",
    " 'openrv12m',\n",
    " 'dtijoint',\n",
    " 'openil12m',\n",
    " 'openil24m',\n",
    " 'allutil',\n",
    " 'totalcutl',\n",
    " 'ilutil']"
   ]
  },
  {
   "cell_type": "code",
   "execution_count": 6,
   "metadata": {
    "collapsed": true
   },
   "outputs": [],
   "source": [
    "ob_feature=['initialliststatus',\n",
    " 'grade',\n",
    " 'subgrade',\n",
    " 'earliestcrline',\n",
    " 'applicationtype',\n",
    " 'intrate',\n",
    " 'desc',\n",
    " 'term',\n",
    " 'homeownership',\n",
    " 'addrstate',\n",
    " 'revolutil',\n",
    " 'id',\n",
    " 'zipcode',\n",
    " 'verificationstatus',\n",
    " 'emptitle',\n",
    " 'emplength',\n",
    " 'purpose',\n",
    " 'issued',\n",
    " 'loanstatus']"
   ]
  },
  {
   "cell_type": "code",
   "execution_count": 7,
   "metadata": {
    "collapsed": true
   },
   "outputs": [],
   "source": [
    "num_feature=['bcopentobuy', 'numactvbctl', 'mthssincelastrecord', 'totcurbal', 'totalbalexmort', 'mosinrcnttl', 'mortacc', 'mthssincelastdelinq', 'numactvrevtl', 'tothicredlim', 'ficorangehigh', 'bcutil', 'numbctl', 'totalrevhilim', 'totcollamt', 'numtl120dpd2m', 'ficorangelow', 'totalacc', 'mthssincerecentbcdlq', 'installment', 'numrevaccts', 'pubrec', 'accopenpast24mths', 'numoprevtl', 'avgcurbal', 'dti', 'delinq2yrs', 'fundedamnt', 'mosinoldilacct', 'annualinc', 'numtl30dpd', 'loanamnt', 'numsats', 'mthssincerecentrevoldelinq', 'mthssincerecentbc', 'revolbal', 'inqlast6mths', 'totalilhighcreditlimit', 'collections12mthsexmed', 'chargeoffwithin12mths', 'numtl90gdpd24m', 'delinqamnt', 'mosinoldrevtlop', 'taxliens', 'numbcsats', 'totalbclimit', 'numacctsever120pd', 'accnowdelinq', 'pcttlnvrdlq', 'mthssincerecentinq', 'numiltl', 'mosinrcntrevtlop', 'openacc', 'numrevtlbalgt0', 'mthssincelastmajorderog', 'numtloppast12m', 'percentbcgt75', 'pubrecbankruptcies']"
   ]
  },
  {
   "cell_type": "code",
   "execution_count": 8,
   "metadata": {},
   "outputs": [
    {
     "data": {
      "text/plain": [
       "77"
      ]
     },
     "execution_count": 8,
     "metadata": {},
     "output_type": "execute_result"
    }
   ],
   "source": [
    "select_feature=ob_feature+num_feature\n",
    "len(select_feature)"
   ]
  },
  {
   "cell_type": "code",
   "execution_count": 9,
   "metadata": {
    "collapsed": true
   },
   "outputs": [],
   "source": [
    "# remove applicationtype since it only has one value as 'individual'\n",
    "\n",
    "ob_feature.remove('applicationtype')\n"
   ]
  },
  {
   "cell_type": "code",
   "execution_count": 10,
   "metadata": {
    "collapsed": true
   },
   "outputs": [],
   "source": [
    "# remove fundedamnt since it always equals to 1 for issued loans and varied during different time of a current loan\n",
    "\n",
    "num_feature.remove('fundedamnt')\n"
   ]
  },
  {
   "cell_type": "code",
   "execution_count": 11,
   "metadata": {
    "collapsed": true
   },
   "outputs": [],
   "source": [
    "# remove 'id','issued' and 'loanstatus' from ob_feature, since they are index, train/test flag and target\n",
    "ob_feature.remove('id')\n",
    "ob_feature.remove('loanstatus')\n",
    "ob_feature.remove('issued')\n"
   ]
  },
  {
   "cell_type": "code",
   "execution_count": 12,
   "metadata": {
    "collapsed": true
   },
   "outputs": [],
   "source": [
    "# remove 'desc' from ob_feature and select_feature\n",
    "ob_feature.remove('desc')\n"
   ]
  },
  {
   "cell_type": "code",
   "execution_count": 13,
   "metadata": {},
   "outputs": [
    {
     "data": {
      "text/plain": [
       "71"
      ]
     },
     "execution_count": 13,
     "metadata": {},
     "output_type": "execute_result"
    }
   ],
   "source": [
    "select_feature=ob_feature+num_feature\n",
    "len(select_feature)"
   ]
  },
  {
   "cell_type": "code",
   "execution_count": 14,
   "metadata": {
    "collapsed": true
   },
   "outputs": [],
   "source": [
    "# selected features left and delete the last two rows\n",
    "df=df1[select_feature+['id','loanstatus','issued']][:-2]"
   ]
  },
  {
   "cell_type": "code",
   "execution_count": 15,
   "metadata": {},
   "outputs": [
    {
     "data": {
      "text/plain": [
       "(235629, 74)"
      ]
     },
     "execution_count": 15,
     "metadata": {},
     "output_type": "execute_result"
    }
   ],
   "source": [
    "df.shape"
   ]
  },
  {
   "cell_type": "markdown",
   "metadata": {},
   "source": [
    "## only use term=36 months and loanstatus = fully paid and charged off"
   ]
  },
  {
   "cell_type": "code",
   "execution_count": 16,
   "metadata": {
    "collapsed": true
   },
   "outputs": [],
   "source": [
    "df = df.query(\"loanstatus == 'Fully Paid' or loanstatus == 'Charged Off' \")"
   ]
  },
  {
   "cell_type": "code",
   "execution_count": 17,
   "metadata": {
    "collapsed": true
   },
   "outputs": [],
   "source": [
    "df = df.query(\"term ==' 36 months'\")"
   ]
  },
  {
   "cell_type": "code",
   "execution_count": 18,
   "metadata": {},
   "outputs": [
    {
     "data": {
      "text/plain": [
       "(114925, 74)"
      ]
     },
     "execution_count": 18,
     "metadata": {},
     "output_type": "execute_result"
    }
   ],
   "source": [
    "df.shape"
   ]
  },
  {
   "cell_type": "code",
   "execution_count": 19,
   "metadata": {
    "collapsed": true
   },
   "outputs": [],
   "source": [
    "ob_feature.remove('term')"
   ]
  },
  {
   "cell_type": "markdown",
   "metadata": {},
   "source": [
    "## Label Target"
   ]
  },
  {
   "cell_type": "code",
   "execution_count": 20,
   "metadata": {
    "collapsed": true
   },
   "outputs": [],
   "source": [
    "df['loanstatus'] = df.loanstatus.map({\"Charged Off\": 1, \"Fully Paid\": 0})"
   ]
  },
  {
   "cell_type": "code",
   "execution_count": 21,
   "metadata": {},
   "outputs": [
    {
     "name": "stdout",
     "output_type": "stream",
     "text": [
      "0    95346\n",
      "1    19579\n",
      "Name: loanstatus, dtype: int64\n",
      "0    0.829637\n",
      "1    0.170363\n",
      "Name: loanstatus, dtype: float64\n"
     ]
    }
   ],
   "source": [
    "print df.loanstatus.value_counts()\n",
    "print df.loanstatus.value_counts(normalize=True)"
   ]
  },
  {
   "cell_type": "code",
   "execution_count": null,
   "metadata": {
    "collapsed": true
   },
   "outputs": [],
   "source": []
  },
  {
   "cell_type": "markdown",
   "metadata": {},
   "source": [
    "## Out of time testing set and in-time training set: Oct~Dec as test)"
   ]
  },
  {
   "cell_type": "code",
   "execution_count": 22,
   "metadata": {},
   "outputs": [
    {
     "data": {
      "text/plain": [
       "['Dec-2014',\n",
       " 'Nov-2014',\n",
       " 'Oct-2014',\n",
       " 'Sep-2014',\n",
       " 'Aug-2014',\n",
       " 'Jul-2014',\n",
       " 'Jun-2014',\n",
       " 'May-2014',\n",
       " 'Apr-2014',\n",
       " 'Mar-2014',\n",
       " 'Feb-2014',\n",
       " 'Jan-2014']"
      ]
     },
     "execution_count": 22,
     "metadata": {},
     "output_type": "execute_result"
    }
   ],
   "source": [
    "issued=list(df['issued'].unique())\n",
    "issued"
   ]
  },
  {
   "cell_type": "code",
   "execution_count": 23,
   "metadata": {},
   "outputs": [
    {
     "data": {
      "text/plain": [
       "1    87032\n",
       "0    27893\n",
       "Name: train_flg, dtype: int64"
      ]
     },
     "execution_count": 23,
     "metadata": {},
     "output_type": "execute_result"
    }
   ],
   "source": [
    "df['train_flg'] = df.issued.apply(lambda x: 0 if x in issued[:3] else 1)\n",
    "df.train_flg.value_counts()"
   ]
  },
  {
   "cell_type": "markdown",
   "metadata": {},
   "source": [
    "## Feature Engineering & Cleaning"
   ]
  },
  {
   "cell_type": "markdown",
   "metadata": {},
   "source": [
    "#### Datetime to numeric feature"
   ]
  },
  {
   "cell_type": "code",
   "execution_count": 24,
   "metadata": {},
   "outputs": [
    {
     "data": {
      "text/plain": [
       "array(['Sep-1989', 'Aug-2002', 'Nov-1992', 'Oct-2001', 'Oct-1998'], dtype=object)"
      ]
     },
     "execution_count": 24,
     "metadata": {},
     "output_type": "execute_result"
    }
   ],
   "source": [
    "df.earliestcrline.unique()[:5]"
   ]
  },
  {
   "cell_type": "code",
   "execution_count": 25,
   "metadata": {
    "collapsed": true
   },
   "outputs": [],
   "source": [
    "# convert to number of months to Dec 2014"
   ]
  },
  {
   "cell_type": "code",
   "execution_count": 26,
   "metadata": {
    "collapsed": true
   },
   "outputs": [],
   "source": [
    "cl_month=df.earliestcrline.apply(lambda x: x.split('-')[0])\n",
    "cl_year=df.earliestcrline.apply(lambda x: int(x.split('-')[1]))"
   ]
  },
  {
   "cell_type": "code",
   "execution_count": 27,
   "metadata": {},
   "outputs": [
    {
     "data": {
      "text/plain": [
       "array(['Sep', 'Aug', 'Nov', 'Oct', 'Jan', 'May', 'Jul', 'Jun', 'Dec',\n",
       "       'Mar', 'Feb', 'Apr'], dtype=object)"
      ]
     },
     "execution_count": 27,
     "metadata": {},
     "output_type": "execute_result"
    }
   ],
   "source": [
    "cl_month.unique()"
   ]
  },
  {
   "cell_type": "code",
   "execution_count": 28,
   "metadata": {},
   "outputs": [
    {
     "data": {
      "text/plain": [
       "array([1989, 2002, 1992, 2001, 1998, 1999, 2009, 2003, 1995, 1993, 1996,\n",
       "       2004, 1988, 2007, 2011, 2010, 2006, 1997, 2008, 2000, 2005, 1986,\n",
       "       1987, 1973, 1991, 1982, 1984, 1976, 1981, 1974, 1990, 1978, 1979,\n",
       "       1994, 1983, 1971, 1985, 1967, 1972, 1968, 1980, 1977, 1965, 1975,\n",
       "       1969, 1963, 1970, 1964, 1966, 1958, 1962, 1959, 1955, 1960, 1961,\n",
       "       1954, 1957, 1950, 1948, 1953, 1956], dtype=int64)"
      ]
     },
     "execution_count": 28,
     "metadata": {},
     "output_type": "execute_result"
    }
   ],
   "source": [
    "cl_year.unique()"
   ]
  },
  {
   "cell_type": "code",
   "execution_count": 29,
   "metadata": {
    "collapsed": true
   },
   "outputs": [],
   "source": [
    "dic_month= {'Jan':11,'Feb':10,'Mar':9,'Apr':8, 'May':7, 'Jun':6, 'Jul':5, 'Aug':4, 'Sep':3, 'Oct':2, 'Nov':1, 'Dec':0}"
   ]
  },
  {
   "cell_type": "code",
   "execution_count": 30,
   "metadata": {
    "collapsed": true
   },
   "outputs": [],
   "source": [
    "df['earliestcrline_month']=df.earliestcrline.apply(lambda x: (2014-int(x.split('-')[1]))*12+dic_month[x.split('-')[0]])"
   ]
  },
  {
   "cell_type": "code",
   "execution_count": 31,
   "metadata": {},
   "outputs": [
    {
     "data": {
      "text/plain": [
       "0    303\n",
       "3    148\n",
       "4    265\n",
       "6    158\n",
       "9    194\n",
       "Name: earliestcrline_month, dtype: int64"
      ]
     },
     "execution_count": 31,
     "metadata": {},
     "output_type": "execute_result"
    }
   ],
   "source": [
    "df.earliestcrline_month[:5]"
   ]
  },
  {
   "cell_type": "code",
   "execution_count": 32,
   "metadata": {
    "collapsed": true
   },
   "outputs": [],
   "source": [
    "num_feature.append('earliestcrline_month')\n",
    "ob_feature.remove('earliestcrline')"
   ]
  },
  {
   "cell_type": "code",
   "execution_count": 33,
   "metadata": {},
   "outputs": [
    {
     "name": "stdout",
     "output_type": "stream",
     "text": [
      "12 58\n"
     ]
    }
   ],
   "source": [
    "print len(ob_feature), len(num_feature)"
   ]
  },
  {
   "cell_type": "markdown",
   "metadata": {},
   "source": [
    "### emplength to numeric feature"
   ]
  },
  {
   "cell_type": "code",
   "execution_count": 34,
   "metadata": {},
   "outputs": [
    {
     "name": "stdout",
     "output_type": "stream",
     "text": [
      "0\n"
     ]
    },
    {
     "data": {
      "text/plain": [
       "array(['8 years', '< 1 year', '10+ years', '2 years', '9 years', '7 years',\n",
       "       '1 year', 'n/a', '3 years', '5 years', '4 years', '6 years'], dtype=object)"
      ]
     },
     "execution_count": 34,
     "metadata": {},
     "output_type": "execute_result"
    }
   ],
   "source": [
    "print df['emplength'].isnull().sum()\n",
    "df['emplength'].unique()"
   ]
  },
  {
   "cell_type": "code",
   "execution_count": 35,
   "metadata": {
    "collapsed": true
   },
   "outputs": [],
   "source": [
    "df['emplength'].replace('n/a', np.nan, inplace=True)\n",
    "df['emplength'].replace('< 1 year', '0', inplace=True)\n",
    "df['emplength'].replace(to_replace='[^0-9]+', value='', inplace=True, regex=True)\n",
    "df.emplength.fillna(value=-999,inplace=True)\n",
    "df['emplength'] = df['emplength'].astype(int)"
   ]
  },
  {
   "cell_type": "code",
   "execution_count": 36,
   "metadata": {},
   "outputs": [
    {
     "data": {
      "text/plain": [
       " 10     35800\n",
       " 2      10551\n",
       " 0       9407\n",
       " 3       9383\n",
       " 1       7559\n",
       " 4       6734\n",
       " 5       6559\n",
       "-999     6427\n",
       " 7       6401\n",
       " 6       5966\n",
       " 8       5712\n",
       " 9       4426\n",
       "Name: emplength, dtype: int64"
      ]
     },
     "execution_count": 36,
     "metadata": {},
     "output_type": "execute_result"
    }
   ],
   "source": [
    "df.emplength.value_counts()"
   ]
  },
  {
   "cell_type": "code",
   "execution_count": 37,
   "metadata": {},
   "outputs": [
    {
     "name": "stdout",
     "output_type": "stream",
     "text": [
      "59 11\n"
     ]
    }
   ],
   "source": [
    "num_feature.append('emplength')\n",
    "ob_feature.remove('emplength')\n",
    "print len(num_feature), len(ob_feature)"
   ]
  },
  {
   "cell_type": "code",
   "execution_count": null,
   "metadata": {
    "collapsed": true
   },
   "outputs": [],
   "source": []
  },
  {
   "cell_type": "markdown",
   "metadata": {},
   "source": [
    "## % to numeric feature: intrate, revolutil"
   ]
  },
  {
   "cell_type": "code",
   "execution_count": 38,
   "metadata": {
    "collapsed": true
   },
   "outputs": [],
   "source": [
    "intrate=df.intrate.apply(lambda x: float(x.replace('%','')))"
   ]
  },
  {
   "cell_type": "code",
   "execution_count": 39,
   "metadata": {},
   "outputs": [
    {
     "data": {
      "text/plain": [
       "0     6.99\n",
       "3    13.66\n",
       "Name: intrate, dtype: float64"
      ]
     },
     "execution_count": 39,
     "metadata": {},
     "output_type": "execute_result"
    }
   ],
   "source": [
    "df.intrate=intrate\n",
    "df.intrate[:2]"
   ]
  },
  {
   "cell_type": "code",
   "execution_count": 41,
   "metadata": {},
   "outputs": [
    {
     "data": {
      "text/plain": [
       "0    31.6%\n",
       "3    91.9%\n",
       "4    59.4%\n",
       "Name: revolutil, dtype: object"
      ]
     },
     "execution_count": 41,
     "metadata": {},
     "output_type": "execute_result"
    }
   ],
   "source": [
    "df.revolutil[:3]"
   ]
  },
  {
   "cell_type": "code",
   "execution_count": 44,
   "metadata": {
    "collapsed": true
   },
   "outputs": [],
   "source": [
    "revolutil=df.revolutil.apply(lambda x: str(x).replace('%','')).astype(float)"
   ]
  },
  {
   "cell_type": "code",
   "execution_count": 46,
   "metadata": {},
   "outputs": [
    {
     "data": {
      "text/plain": [
       "0    31.6\n",
       "3    91.9\n",
       "Name: revolutil, dtype: float64"
      ]
     },
     "execution_count": 46,
     "metadata": {},
     "output_type": "execute_result"
    }
   ],
   "source": [
    "df.revolutil=revolutil\n",
    "df.revolutil[:2]"
   ]
  },
  {
   "cell_type": "code",
   "execution_count": 47,
   "metadata": {
    "collapsed": true
   },
   "outputs": [],
   "source": [
    "ob_feature.remove('intrate')\n",
    "num_feature.append('intrate')\n",
    "ob_feature.remove('revolutil')\n",
    "num_feature.append('revolutil')"
   ]
  },
  {
   "cell_type": "code",
   "execution_count": 48,
   "metadata": {},
   "outputs": [
    {
     "name": "stdout",
     "output_type": "stream",
     "text": [
      "9 61\n"
     ]
    }
   ],
   "source": [
    "print len(ob_feature), len(num_feature)"
   ]
  },
  {
   "cell_type": "markdown",
   "metadata": {},
   "source": [
    "#### Ordinal feature encoding : grade, subgrade"
   ]
  },
  {
   "cell_type": "code",
   "execution_count": 49,
   "metadata": {
    "collapsed": true
   },
   "outputs": [],
   "source": [
    "Dic_grade = {\"A\": 1, \n",
    "            \"B\": 2, \n",
    "            \"C\": 3, \n",
    "            \"D\": 4, \n",
    "            \"E\": 5,\n",
    "            \"F\": 6, \n",
    "            \"G\": 7}"
   ]
  },
  {
   "cell_type": "code",
   "execution_count": 50,
   "metadata": {
    "collapsed": true
   },
   "outputs": [],
   "source": [
    "df.grade = df.grade.map(Dic_grade)"
   ]
  },
  {
   "cell_type": "code",
   "execution_count": 51,
   "metadata": {
    "collapsed": true
   },
   "outputs": [],
   "source": [
    "df.subgrade = df.subgrade.apply(lambda x: (Dic_grade[x[0]] - 1) * 5 + int(x[1]))"
   ]
  },
  {
   "cell_type": "code",
   "execution_count": 52,
   "metadata": {
    "collapsed": true
   },
   "outputs": [],
   "source": [
    "ob_feature.remove('grade')\n",
    "num_feature.append('grade')\n",
    "ob_feature.remove('subgrade')\n",
    "num_feature.append('subgrade')"
   ]
  },
  {
   "cell_type": "code",
   "execution_count": 53,
   "metadata": {},
   "outputs": [
    {
     "name": "stdout",
     "output_type": "stream",
     "text": [
      "7 63\n"
     ]
    }
   ],
   "source": [
    "print len(ob_feature), len(num_feature)"
   ]
  },
  {
   "cell_type": "code",
   "execution_count": null,
   "metadata": {
    "collapsed": true
   },
   "outputs": [],
   "source": []
  },
  {
   "cell_type": "markdown",
   "metadata": {},
   "source": [
    "### High cardinality feature encoding"
   ]
  },
  {
   "cell_type": "markdown",
   "metadata": {},
   "source": [
    "###### Zip Code - frequency encoding "
   ]
  },
  {
   "cell_type": "code",
   "execution_count": 54,
   "metadata": {},
   "outputs": [
    {
     "name": "stdout",
     "output_type": "stream",
     "text": [
      "847 ['937xx' '850xx' '077xx' '554xx' '982xx']\n"
     ]
    }
   ],
   "source": [
    "print df.zipcode.nunique(), df.zipcode.unique()[:5]"
   ]
  },
  {
   "cell_type": "code",
   "execution_count": 55,
   "metadata": {
    "collapsed": true
   },
   "outputs": [],
   "source": [
    "# convert zipcode to int\n",
    "df.zipcode = df.zipcode.apply(lambda x: int(x[0:3]))"
   ]
  },
  {
   "cell_type": "code",
   "execution_count": 56,
   "metadata": {},
   "outputs": [
    {
     "data": {
      "text/plain": [
       "0    937\n",
       "3    850\n",
       "4     77\n",
       "6    554\n",
       "9    982\n",
       "Name: zipcode, dtype: int64"
      ]
     },
     "execution_count": 56,
     "metadata": {},
     "output_type": "execute_result"
    }
   ],
   "source": [
    "df.zipcode[:5]"
   ]
  },
  {
   "cell_type": "code",
   "execution_count": 57,
   "metadata": {
    "collapsed": true
   },
   "outputs": [],
   "source": [
    "zipcode_freq = df.groupby(\"zipcode\").size().reset_index()"
   ]
  },
  {
   "cell_type": "code",
   "execution_count": 58,
   "metadata": {},
   "outputs": [
    {
     "data": {
      "text/html": [
       "<div>\n",
       "<table border=\"1\" class=\"dataframe\">\n",
       "  <thead>\n",
       "    <tr style=\"text-align: right;\">\n",
       "      <th></th>\n",
       "      <th>zipcode</th>\n",
       "      <th>0</th>\n",
       "    </tr>\n",
       "  </thead>\n",
       "  <tbody>\n",
       "    <tr>\n",
       "      <th>0</th>\n",
       "      <td>8</td>\n",
       "      <td>1</td>\n",
       "    </tr>\n",
       "    <tr>\n",
       "      <th>1</th>\n",
       "      <td>10</td>\n",
       "      <td>157</td>\n",
       "    </tr>\n",
       "    <tr>\n",
       "      <th>2</th>\n",
       "      <td>11</td>\n",
       "      <td>43</td>\n",
       "    </tr>\n",
       "    <tr>\n",
       "      <th>3</th>\n",
       "      <td>12</td>\n",
       "      <td>41</td>\n",
       "    </tr>\n",
       "    <tr>\n",
       "      <th>4</th>\n",
       "      <td>13</td>\n",
       "      <td>29</td>\n",
       "    </tr>\n",
       "  </tbody>\n",
       "</table>\n",
       "</div>"
      ],
      "text/plain": [
       "   zipcode    0\n",
       "0        8    1\n",
       "1       10  157\n",
       "2       11   43\n",
       "3       12   41\n",
       "4       13   29"
      ]
     },
     "execution_count": 58,
     "metadata": {},
     "output_type": "execute_result"
    }
   ],
   "source": [
    "zipcode_freq[:5]"
   ]
  },
  {
   "cell_type": "code",
   "execution_count": 59,
   "metadata": {
    "collapsed": true
   },
   "outputs": [],
   "source": [
    "zipcode_freq.columns = [\"zipcode\", \"zipcode_freq\"]"
   ]
  },
  {
   "cell_type": "code",
   "execution_count": 60,
   "metadata": {
    "collapsed": true
   },
   "outputs": [],
   "source": [
    "df = pd.merge(df, zipcode_freq, how = \"left\", on = \"zipcode\")"
   ]
  },
  {
   "cell_type": "code",
   "execution_count": 61,
   "metadata": {},
   "outputs": [
    {
     "data": {
      "text/plain": [
       "0    183\n",
       "1    541\n",
       "2    248\n",
       "3    476\n",
       "4    336\n",
       "Name: zipcode_freq, dtype: int64"
      ]
     },
     "execution_count": 61,
     "metadata": {},
     "output_type": "execute_result"
    }
   ],
   "source": [
    "df.zipcode_freq[:5]"
   ]
  },
  {
   "cell_type": "code",
   "execution_count": 62,
   "metadata": {},
   "outputs": [
    {
     "name": "stdout",
     "output_type": "stream",
     "text": [
      "6 65\n"
     ]
    }
   ],
   "source": [
    "ob_feature.remove('zipcode')\n",
    "num_feature.append('zipcode')\n",
    "num_feature.append('zipcode_freq')\n",
    "print len(ob_feature), len(num_feature)"
   ]
  },
  {
   "cell_type": "markdown",
   "metadata": {},
   "source": [
    "### emptitle-frequency encoding (can do some NLP for later stage)"
   ]
  },
  {
   "cell_type": "code",
   "execution_count": 63,
   "metadata": {
    "collapsed": true
   },
   "outputs": [],
   "source": [
    "emptitle_freq = df.groupby(\"emptitle\").size().reset_index()\n",
    "emptitle_freq.columns = [\"emptitle\", \"emptitle_freq\"]\n",
    "df = pd.merge(df, emptitle_freq, how = \"left\", on = \"emptitle\")\n"
   ]
  },
  {
   "cell_type": "code",
   "execution_count": 64,
   "metadata": {},
   "outputs": [
    {
     "name": "stdout",
     "output_type": "stream",
     "text": [
      "5 66\n"
     ]
    }
   ],
   "source": [
    "ob_feature.remove('emptitle')\n",
    "num_feature.append('emptitle_freq')\n",
    "print len(ob_feature), len(num_feature)"
   ]
  },
  {
   "cell_type": "markdown",
   "metadata": {},
   "source": [
    "###### Addr_state - frequency encoding"
   ]
  },
  {
   "cell_type": "code",
   "execution_count": 65,
   "metadata": {
    "collapsed": true
   },
   "outputs": [],
   "source": [
    "addrstate_freq = df.groupby(\"addrstate\").size().reset_index()\n",
    "addrstate_freq.columns = [\"addrstate\", \"addrstate_freq\"]\n",
    "df = pd.merge(df, addrstate_freq, how = \"left\", on = \"addrstate\")\n"
   ]
  },
  {
   "cell_type": "code",
   "execution_count": 66,
   "metadata": {},
   "outputs": [
    {
     "name": "stdout",
     "output_type": "stream",
     "text": [
      "4 67\n"
     ]
    }
   ],
   "source": [
    "ob_feature.remove('addrstate')\n",
    "num_feature.append('addrstate_freq')\n",
    "print len(ob_feature), len(num_feature)"
   ]
  },
  {
   "cell_type": "markdown",
   "metadata": {},
   "source": [
    "#### One hot encoding"
   ]
  },
  {
   "cell_type": "code",
   "execution_count": 67,
   "metadata": {
    "collapsed": true
   },
   "outputs": [],
   "source": [
    "dummy_feature = [\"homeownership\", \"verificationstatus\", \"purpose\", \"initialliststatus\"]"
   ]
  },
  {
   "cell_type": "code",
   "execution_count": 68,
   "metadata": {
    "collapsed": true
   },
   "outputs": [],
   "source": [
    "df_dummy = pd.get_dummies(df[dummy_feature])"
   ]
  },
  {
   "cell_type": "code",
   "execution_count": 69,
   "metadata": {
    "collapsed": true
   },
   "outputs": [],
   "source": [
    "OHE_feature=list(df_dummy.columns.values)"
   ]
  },
  {
   "cell_type": "code",
   "execution_count": 70,
   "metadata": {},
   "outputs": [
    {
     "data": {
      "text/plain": [
       "22"
      ]
     },
     "execution_count": 70,
     "metadata": {},
     "output_type": "execute_result"
    }
   ],
   "source": [
    "len(OHE_feature)"
   ]
  },
  {
   "cell_type": "code",
   "execution_count": 71,
   "metadata": {
    "collapsed": true
   },
   "outputs": [],
   "source": [
    "df=pd.concat([df,df_dummy], axis=1 )"
   ]
  },
  {
   "cell_type": "code",
   "execution_count": 72,
   "metadata": {},
   "outputs": [
    {
     "data": {
      "text/plain": [
       "(114925, 101)"
      ]
     },
     "execution_count": 72,
     "metadata": {},
     "output_type": "execute_result"
    }
   ],
   "source": [
    "df.shape"
   ]
  },
  {
   "cell_type": "code",
   "execution_count": 73,
   "metadata": {
    "collapsed": true
   },
   "outputs": [],
   "source": [
    "for feat in dummy_feature:\n",
    "    \n",
    "    ob_feature.remove(feat)"
   ]
  },
  {
   "cell_type": "code",
   "execution_count": 74,
   "metadata": {},
   "outputs": [
    {
     "data": {
      "text/plain": [
       "0"
      ]
     },
     "execution_count": 74,
     "metadata": {},
     "output_type": "execute_result"
    }
   ],
   "source": [
    "len(ob_feature)"
   ]
  },
  {
   "cell_type": "code",
   "execution_count": 85,
   "metadata": {
    "collapsed": true
   },
   "outputs": [],
   "source": [
    "select_feature=num_feature+OHE_feature"
   ]
  },
  {
   "cell_type": "code",
   "execution_count": 86,
   "metadata": {},
   "outputs": [
    {
     "data": {
      "text/plain": [
       "89"
      ]
     },
     "execution_count": 86,
     "metadata": {},
     "output_type": "execute_result"
    }
   ],
   "source": [
    "len(select_feature)"
   ]
  },
  {
   "cell_type": "markdown",
   "metadata": {},
   "source": [
    "##  XGBoost "
   ]
  },
  {
   "cell_type": "code",
   "execution_count": 87,
   "metadata": {},
   "outputs": [
    {
     "name": "stdout",
     "output_type": "stream",
     "text": [
      "['bcopentobuy', 'numactvbctl', 'mthssincelastrecord', 'totcurbal', 'totalbalexmort', 'mosinrcnttl', 'mortacc', 'mthssincelastdelinq', 'numactvrevtl', 'tothicredlim', 'ficorangehigh', 'bcutil', 'numbctl', 'totalrevhilim', 'totcollamt', 'numtl120dpd2m', 'ficorangelow', 'totalacc', 'mthssincerecentbcdlq', 'installment', 'numrevaccts', 'pubrec', 'accopenpast24mths', 'numoprevtl', 'avgcurbal', 'dti', 'delinq2yrs', 'mosinoldilacct', 'annualinc', 'numtl30dpd', 'loanamnt', 'numsats', 'mthssincerecentrevoldelinq', 'mthssincerecentbc', 'revolbal', 'inqlast6mths', 'totalilhighcreditlimit', 'collections12mthsexmed', 'chargeoffwithin12mths', 'numtl90gdpd24m', 'delinqamnt', 'mosinoldrevtlop', 'taxliens', 'numbcsats', 'totalbclimit', 'numacctsever120pd', 'accnowdelinq', 'pcttlnvrdlq', 'mthssincerecentinq', 'numiltl', 'mosinrcntrevtlop', 'openacc', 'numrevtlbalgt0', 'mthssincelastmajorderog', 'numtloppast12m', 'percentbcgt75', 'pubrecbankruptcies', 'earliestcrline_month', 'emplength', 'intrate', 'revolutil', 'grade', 'subgrade', 'zipcode', 'zipcode_freq', 'emptitle_freq', 'addrstate_freq', 'homeownership_ANY', 'homeownership_MORTGAGE', 'homeownership_OWN', 'homeownership_RENT', 'verificationstatus_Not Verified', 'verificationstatus_Source Verified', 'verificationstatus_Verified', 'purpose_car', 'purpose_credit_card', 'purpose_debt_consolidation', 'purpose_home_improvement', 'purpose_house', 'purpose_major_purchase', 'purpose_medical', 'purpose_moving', 'purpose_other', 'purpose_renewable_energy', 'purpose_small_business', 'purpose_vacation', 'purpose_wedding', 'initialliststatus_f', 'initialliststatus_w']\n"
     ]
    }
   ],
   "source": [
    "feat=select_feature\n",
    "print feat"
   ]
  },
  {
   "cell_type": "markdown",
   "metadata": {},
   "source": [
    "### Preliminary manually parameter tuning based on stratified train-test split"
   ]
  },
  {
   "cell_type": "code",
   "execution_count": 79,
   "metadata": {},
   "outputs": [
    {
     "name": "stderr",
     "output_type": "stream",
     "text": [
      "C:\\Users\\Weiqun\\Anaconda2\\lib\\site-packages\\sklearn\\cross_validation.py:44: DeprecationWarning: This module was deprecated in version 0.18 in favor of the model_selection module into which all the refactored classes and functions are moved. Also note that the interface of the new CV iterators are different from that of this module. This module will be removed in 0.20.\n",
      "  \"This module will be removed in 0.20.\", DeprecationWarning)\n"
     ]
    }
   ],
   "source": [
    "from sklearn.cross_validation import StratifiedKFold\n",
    "from sklearn.cross_validation import train_test_split\n",
    "#Kfolds = StratifiedKFold(df_all['loan_status'], n_folds = 3, shuffle=True, random_state=2019)"
   ]
  },
  {
   "cell_type": "code",
   "execution_count": 88,
   "metadata": {
    "collapsed": true
   },
   "outputs": [],
   "source": [
    "df_train = df.query(\"train_flg == 1\")\n",
    "df_test =df.query(\"train_flg == 0\" )"
   ]
  },
  {
   "cell_type": "code",
   "execution_count": 89,
   "metadata": {},
   "outputs": [
    {
     "name": "stdout",
     "output_type": "stream",
     "text": [
      "(87032, 101) (27893, 101)\n"
     ]
    }
   ],
   "source": [
    "print df_train.shape, df_test.shape"
   ]
  },
  {
   "cell_type": "code",
   "execution_count": 90,
   "metadata": {},
   "outputs": [
    {
     "data": {
      "text/plain": [
       "(87032, 89)"
      ]
     },
     "execution_count": 90,
     "metadata": {},
     "output_type": "execute_result"
    }
   ],
   "source": [
    "df_train[feat].shape"
   ]
  },
  {
   "cell_type": "code",
   "execution_count": 91,
   "metadata": {
    "collapsed": true
   },
   "outputs": [],
   "source": [
    "X_train, X_valid, y_train, y_valid = train_test_split(df_train[feat], df_train.loanstatus, \n",
    "                                                      test_size=0.3, random_state=2014, stratify = df_train.loanstatus )"
   ]
  },
  {
   "cell_type": "code",
   "execution_count": 92,
   "metadata": {
    "collapsed": true
   },
   "outputs": [],
   "source": [
    "X_test, y_test = df_test[feat], df_test.loanstatus"
   ]
  },
  {
   "cell_type": "code",
   "execution_count": 93,
   "metadata": {
    "collapsed": true
   },
   "outputs": [],
   "source": [
    "dtrain = xgb.DMatrix(X_train, y_train, missing = np.NAN)\n",
    "dvalid = xgb.DMatrix(X_valid, y_valid, missing = np.NAN)\n",
    "dtest = xgb.DMatrix(X_test, y_test, missing = np.NAN)"
   ]
  },
  {
   "cell_type": "code",
   "execution_count": 94,
   "metadata": {
    "collapsed": true
   },
   "outputs": [],
   "source": [
    "params = {\"objective\": \"binary:logistic\", \n",
    "          \"booster\" : \"gbtree\", \n",
    "          \"eta\": 0.05, \n",
    "          \"max_depth\": 6, \n",
    "          \"subsample\": 0.632, \n",
    "          \"colsample_bytree\": 0.7,\n",
    "          #\"colsample_bylevel\": 0.6,\n",
    "          \"silent\": 1, \n",
    "          \"seed\": 1234, \n",
    "          \"eval_metric\": \"auc\",\n",
    "          #\"gamma\": 1, \n",
    "          \"min_child_weight\": 5} "
   ]
  },
  {
   "cell_type": "code",
   "execution_count": 95,
   "metadata": {},
   "outputs": [
    {
     "name": "stdout",
     "output_type": "stream",
     "text": [
      "[0]\ttrain-auc:0.68181\teval-auc:0.664162\n",
      "Multiple eval metrics have been passed: 'eval-auc' will be used for early stopping.\n",
      "\n",
      "Will train until eval-auc hasn't improved in 50 rounds.\n",
      "[1]\ttrain-auc:0.693134\teval-auc:0.671581\n",
      "[2]\ttrain-auc:0.701238\teval-auc:0.67424\n",
      "[3]\ttrain-auc:0.704968\teval-auc:0.675289\n",
      "[4]\ttrain-auc:0.709667\teval-auc:0.678937\n",
      "[5]\ttrain-auc:0.711239\teval-auc:0.681023\n",
      "[6]\ttrain-auc:0.713246\teval-auc:0.683411\n",
      "[7]\ttrain-auc:0.71435\teval-auc:0.683973\n",
      "[8]\ttrain-auc:0.715898\teval-auc:0.685659\n",
      "[9]\ttrain-auc:0.716727\teval-auc:0.685883\n",
      "[10]\ttrain-auc:0.717563\teval-auc:0.685578\n",
      "[11]\ttrain-auc:0.718267\teval-auc:0.685653\n",
      "[12]\ttrain-auc:0.718953\teval-auc:0.686223\n",
      "[13]\ttrain-auc:0.720038\teval-auc:0.686474\n",
      "[14]\ttrain-auc:0.721496\teval-auc:0.686579\n",
      "[15]\ttrain-auc:0.722306\teval-auc:0.686794\n",
      "[16]\ttrain-auc:0.723001\teval-auc:0.68768\n",
      "[17]\ttrain-auc:0.723653\teval-auc:0.688102\n",
      "[18]\ttrain-auc:0.724154\teval-auc:0.688224\n",
      "[19]\ttrain-auc:0.724443\teval-auc:0.688361\n",
      "[20]\ttrain-auc:0.725145\teval-auc:0.688085\n",
      "[21]\ttrain-auc:0.725384\teval-auc:0.688568\n",
      "[22]\ttrain-auc:0.725968\teval-auc:0.688641\n",
      "[23]\ttrain-auc:0.726606\teval-auc:0.688905\n",
      "[24]\ttrain-auc:0.727074\teval-auc:0.688987\n",
      "[25]\ttrain-auc:0.727303\teval-auc:0.689065\n",
      "[26]\ttrain-auc:0.727745\teval-auc:0.689133\n",
      "[27]\ttrain-auc:0.728283\teval-auc:0.689193\n",
      "[28]\ttrain-auc:0.728836\teval-auc:0.689126\n",
      "[29]\ttrain-auc:0.729445\teval-auc:0.689149\n",
      "[30]\ttrain-auc:0.730086\teval-auc:0.689276\n",
      "[31]\ttrain-auc:0.730529\teval-auc:0.689353\n",
      "[32]\ttrain-auc:0.731184\teval-auc:0.689393\n",
      "[33]\ttrain-auc:0.732062\teval-auc:0.68937\n",
      "[34]\ttrain-auc:0.732715\teval-auc:0.689257\n",
      "[35]\ttrain-auc:0.733401\teval-auc:0.689504\n",
      "[36]\ttrain-auc:0.734287\teval-auc:0.689728\n",
      "[37]\ttrain-auc:0.734883\teval-auc:0.689944\n",
      "[38]\ttrain-auc:0.735499\teval-auc:0.690306\n",
      "[39]\ttrain-auc:0.735822\teval-auc:0.690412\n",
      "[40]\ttrain-auc:0.736259\teval-auc:0.69062\n",
      "[41]\ttrain-auc:0.736812\teval-auc:0.690867\n",
      "[42]\ttrain-auc:0.737508\teval-auc:0.691012\n",
      "[43]\ttrain-auc:0.738047\teval-auc:0.691004\n",
      "[44]\ttrain-auc:0.738581\teval-auc:0.691246\n",
      "[45]\ttrain-auc:0.739284\teval-auc:0.691126\n",
      "[46]\ttrain-auc:0.739614\teval-auc:0.691131\n",
      "[47]\ttrain-auc:0.740071\teval-auc:0.691411\n",
      "[48]\ttrain-auc:0.74056\teval-auc:0.691572\n",
      "[49]\ttrain-auc:0.741062\teval-auc:0.691657\n",
      "[50]\ttrain-auc:0.741651\teval-auc:0.691802\n",
      "[51]\ttrain-auc:0.74213\teval-auc:0.691982\n",
      "[52]\ttrain-auc:0.742583\teval-auc:0.692162\n",
      "[53]\ttrain-auc:0.743075\teval-auc:0.692156\n",
      "[54]\ttrain-auc:0.743718\teval-auc:0.69238\n",
      "[55]\ttrain-auc:0.744434\teval-auc:0.69247\n",
      "[56]\ttrain-auc:0.744947\teval-auc:0.692415\n",
      "[57]\ttrain-auc:0.745694\teval-auc:0.692517\n",
      "[58]\ttrain-auc:0.746498\teval-auc:0.692834\n",
      "[59]\ttrain-auc:0.747362\teval-auc:0.692979\n",
      "[60]\ttrain-auc:0.747976\teval-auc:0.692767\n",
      "[61]\ttrain-auc:0.748556\teval-auc:0.692805\n",
      "[62]\ttrain-auc:0.749468\teval-auc:0.692896\n",
      "[63]\ttrain-auc:0.75011\teval-auc:0.693295\n",
      "[64]\ttrain-auc:0.750807\teval-auc:0.693333\n",
      "[65]\ttrain-auc:0.751504\teval-auc:0.69353\n",
      "[66]\ttrain-auc:0.752\teval-auc:0.693641\n",
      "[67]\ttrain-auc:0.752507\teval-auc:0.693887\n",
      "[68]\ttrain-auc:0.753245\teval-auc:0.69403\n",
      "[69]\ttrain-auc:0.754077\teval-auc:0.693899\n",
      "[70]\ttrain-auc:0.754726\teval-auc:0.694042\n",
      "[71]\ttrain-auc:0.755222\teval-auc:0.694129\n",
      "[72]\ttrain-auc:0.755657\teval-auc:0.694322\n",
      "[73]\ttrain-auc:0.756429\teval-auc:0.694559\n",
      "[74]\ttrain-auc:0.756955\teval-auc:0.694624\n",
      "[75]\ttrain-auc:0.757709\teval-auc:0.694883\n",
      "[76]\ttrain-auc:0.758194\teval-auc:0.695041\n",
      "[77]\ttrain-auc:0.758841\teval-auc:0.695176\n",
      "[78]\ttrain-auc:0.759454\teval-auc:0.695355\n",
      "[79]\ttrain-auc:0.759693\teval-auc:0.695349\n",
      "[80]\ttrain-auc:0.760285\teval-auc:0.695265\n",
      "[81]\ttrain-auc:0.760605\teval-auc:0.695401\n",
      "[82]\ttrain-auc:0.761452\teval-auc:0.695476\n",
      "[83]\ttrain-auc:0.762227\teval-auc:0.695638\n",
      "[84]\ttrain-auc:0.762897\teval-auc:0.69558\n",
      "[85]\ttrain-auc:0.763431\teval-auc:0.695671\n",
      "[86]\ttrain-auc:0.763954\teval-auc:0.69577\n",
      "[87]\ttrain-auc:0.764784\teval-auc:0.695945\n",
      "[88]\ttrain-auc:0.765456\teval-auc:0.696121\n",
      "[89]\ttrain-auc:0.76601\teval-auc:0.696322\n",
      "[90]\ttrain-auc:0.766858\teval-auc:0.696291\n",
      "[91]\ttrain-auc:0.767455\teval-auc:0.696233\n",
      "[92]\ttrain-auc:0.767924\teval-auc:0.696444\n",
      "[93]\ttrain-auc:0.768129\teval-auc:0.696339\n",
      "[94]\ttrain-auc:0.768538\teval-auc:0.696443\n",
      "[95]\ttrain-auc:0.769011\teval-auc:0.696463\n",
      "[96]\ttrain-auc:0.769816\teval-auc:0.696514\n",
      "[97]\ttrain-auc:0.770492\teval-auc:0.696565\n",
      "[98]\ttrain-auc:0.770755\teval-auc:0.696655\n",
      "[99]\ttrain-auc:0.771157\teval-auc:0.696739\n",
      "[100]\ttrain-auc:0.771807\teval-auc:0.696604\n",
      "[101]\ttrain-auc:0.772468\teval-auc:0.696599\n",
      "[102]\ttrain-auc:0.772668\teval-auc:0.696699\n",
      "[103]\ttrain-auc:0.773217\teval-auc:0.696881\n",
      "[104]\ttrain-auc:0.773781\teval-auc:0.696962\n",
      "[105]\ttrain-auc:0.774242\teval-auc:0.696785\n",
      "[106]\ttrain-auc:0.774842\teval-auc:0.696897\n",
      "[107]\ttrain-auc:0.774957\teval-auc:0.696927\n",
      "[108]\ttrain-auc:0.775198\teval-auc:0.696866\n",
      "[109]\ttrain-auc:0.775605\teval-auc:0.697021\n",
      "[110]\ttrain-auc:0.776028\teval-auc:0.697072\n",
      "[111]\ttrain-auc:0.776858\teval-auc:0.696992\n",
      "[112]\ttrain-auc:0.776989\teval-auc:0.69702\n",
      "[113]\ttrain-auc:0.777616\teval-auc:0.697093\n",
      "[114]\ttrain-auc:0.777638\teval-auc:0.697046\n",
      "[115]\ttrain-auc:0.778179\teval-auc:0.697169\n",
      "[116]\ttrain-auc:0.778568\teval-auc:0.697373\n",
      "[117]\ttrain-auc:0.779289\teval-auc:0.697306\n",
      "[118]\ttrain-auc:0.779728\teval-auc:0.697303\n",
      "[119]\ttrain-auc:0.779859\teval-auc:0.697344\n",
      "[120]\ttrain-auc:0.780428\teval-auc:0.697486\n",
      "[121]\ttrain-auc:0.781031\teval-auc:0.697436\n",
      "[122]\ttrain-auc:0.781686\teval-auc:0.697434\n",
      "[123]\ttrain-auc:0.782071\teval-auc:0.697541\n",
      "[124]\ttrain-auc:0.782553\teval-auc:0.697582\n",
      "[125]\ttrain-auc:0.783185\teval-auc:0.697597\n",
      "[126]\ttrain-auc:0.783769\teval-auc:0.697584\n",
      "[127]\ttrain-auc:0.784209\teval-auc:0.697663\n",
      "[128]\ttrain-auc:0.784578\teval-auc:0.697842\n",
      "[129]\ttrain-auc:0.785027\teval-auc:0.697828\n",
      "[130]\ttrain-auc:0.785641\teval-auc:0.698071\n",
      "[131]\ttrain-auc:0.786276\teval-auc:0.698336\n",
      "[132]\ttrain-auc:0.786877\teval-auc:0.698416\n",
      "[133]\ttrain-auc:0.787701\teval-auc:0.698382\n",
      "[134]\ttrain-auc:0.788349\teval-auc:0.698262\n",
      "[135]\ttrain-auc:0.788712\teval-auc:0.698245\n",
      "[136]\ttrain-auc:0.78917\teval-auc:0.698266\n",
      "[137]\ttrain-auc:0.789708\teval-auc:0.698305\n",
      "[138]\ttrain-auc:0.789962\teval-auc:0.698317\n",
      "[139]\ttrain-auc:0.790561\teval-auc:0.698264\n",
      "[140]\ttrain-auc:0.790996\teval-auc:0.698315\n",
      "[141]\ttrain-auc:0.791066\teval-auc:0.698338\n",
      "[142]\ttrain-auc:0.791653\teval-auc:0.69826\n",
      "[143]\ttrain-auc:0.792101\teval-auc:0.698339\n",
      "[144]\ttrain-auc:0.792519\teval-auc:0.698409\n",
      "[145]\ttrain-auc:0.792826\teval-auc:0.698593\n",
      "[146]\ttrain-auc:0.793186\teval-auc:0.698593\n",
      "[147]\ttrain-auc:0.793407\teval-auc:0.698687\n",
      "[148]\ttrain-auc:0.793913\teval-auc:0.698642\n",
      "[149]\ttrain-auc:0.794128\teval-auc:0.698781\n",
      "[150]\ttrain-auc:0.795036\teval-auc:0.698895\n",
      "[151]\ttrain-auc:0.795159\teval-auc:0.698924\n",
      "[152]\ttrain-auc:0.795553\teval-auc:0.698956\n",
      "[153]\ttrain-auc:0.79586\teval-auc:0.699035\n",
      "[154]\ttrain-auc:0.79632\teval-auc:0.699046\n",
      "[155]\ttrain-auc:0.796679\teval-auc:0.698996\n",
      "[156]\ttrain-auc:0.797425\teval-auc:0.699097\n",
      "[157]\ttrain-auc:0.797724\teval-auc:0.699042\n",
      "[158]\ttrain-auc:0.79789\teval-auc:0.699171\n",
      "[159]\ttrain-auc:0.798422\teval-auc:0.699295\n",
      "[160]\ttrain-auc:0.798569\teval-auc:0.699301\n",
      "[161]\ttrain-auc:0.798986\teval-auc:0.699348\n",
      "[162]\ttrain-auc:0.799522\teval-auc:0.699391\n",
      "[163]\ttrain-auc:0.800311\teval-auc:0.699514\n",
      "[164]\ttrain-auc:0.800712\teval-auc:0.699472\n",
      "[165]\ttrain-auc:0.801279\teval-auc:0.699447\n",
      "[166]\ttrain-auc:0.801451\teval-auc:0.699475\n",
      "[167]\ttrain-auc:0.802183\teval-auc:0.699486\n",
      "[168]\ttrain-auc:0.80265\teval-auc:0.699595\n",
      "[169]\ttrain-auc:0.803009\teval-auc:0.699579\n",
      "[170]\ttrain-auc:0.803158\teval-auc:0.699551\n",
      "[171]\ttrain-auc:0.803657\teval-auc:0.699594\n",
      "[172]\ttrain-auc:0.804187\teval-auc:0.699625\n",
      "[173]\ttrain-auc:0.804522\teval-auc:0.699778\n",
      "[174]\ttrain-auc:0.804817\teval-auc:0.699843\n",
      "[175]\ttrain-auc:0.805064\teval-auc:0.699876\n",
      "[176]\ttrain-auc:0.805243\teval-auc:0.699995\n",
      "[177]\ttrain-auc:0.805663\teval-auc:0.700028\n",
      "[178]\ttrain-auc:0.805842\teval-auc:0.699947\n",
      "[179]\ttrain-auc:0.806244\teval-auc:0.700028\n",
      "[180]\ttrain-auc:0.806828\teval-auc:0.700128\n",
      "[181]\ttrain-auc:0.807031\teval-auc:0.700096\n",
      "[182]\ttrain-auc:0.807553\teval-auc:0.700034\n",
      "[183]\ttrain-auc:0.807705\teval-auc:0.700058\n",
      "[184]\ttrain-auc:0.808229\teval-auc:0.700078\n",
      "[185]\ttrain-auc:0.808747\teval-auc:0.699992\n",
      "[186]\ttrain-auc:0.809363\teval-auc:0.699905\n",
      "[187]\ttrain-auc:0.809506\teval-auc:0.699937\n",
      "[188]\ttrain-auc:0.81002\teval-auc:0.700031\n",
      "[189]\ttrain-auc:0.810234\teval-auc:0.700062\n",
      "[190]\ttrain-auc:0.810561\teval-auc:0.700028\n",
      "[191]\ttrain-auc:0.810966\teval-auc:0.700058\n",
      "[192]\ttrain-auc:0.811333\teval-auc:0.700008\n",
      "[193]\ttrain-auc:0.811602\teval-auc:0.700119\n",
      "[194]\ttrain-auc:0.812048\teval-auc:0.700206\n",
      "[195]\ttrain-auc:0.812174\teval-auc:0.700113\n",
      "[196]\ttrain-auc:0.812344\teval-auc:0.700181\n",
      "[197]\ttrain-auc:0.812813\teval-auc:0.700015\n",
      "[198]\ttrain-auc:0.813292\teval-auc:0.70004\n",
      "[199]\ttrain-auc:0.813496\teval-auc:0.700101\n",
      "[200]\ttrain-auc:0.81404\teval-auc:0.700141\n",
      "[201]\ttrain-auc:0.814325\teval-auc:0.700052\n",
      "[202]\ttrain-auc:0.81489\teval-auc:0.700157\n",
      "[203]\ttrain-auc:0.815528\teval-auc:0.700171\n",
      "[204]\ttrain-auc:0.816081\teval-auc:0.700191\n",
      "[205]\ttrain-auc:0.816545\teval-auc:0.70027\n",
      "[206]\ttrain-auc:0.81708\teval-auc:0.700282\n",
      "[207]\ttrain-auc:0.81747\teval-auc:0.700346\n",
      "[208]\ttrain-auc:0.818003\teval-auc:0.700354\n",
      "[209]\ttrain-auc:0.81856\teval-auc:0.700347\n",
      "[210]\ttrain-auc:0.819036\teval-auc:0.700321\n",
      "[211]\ttrain-auc:0.819507\teval-auc:0.70023\n",
      "[212]\ttrain-auc:0.81994\teval-auc:0.700104\n",
      "[213]\ttrain-auc:0.82007\teval-auc:0.700113\n",
      "[214]\ttrain-auc:0.820383\teval-auc:0.700043\n",
      "[215]\ttrain-auc:0.820526\teval-auc:0.70002\n",
      "[216]\ttrain-auc:0.821034\teval-auc:0.700148\n",
      "[217]\ttrain-auc:0.821652\teval-auc:0.700241\n",
      "[218]\ttrain-auc:0.82192\teval-auc:0.700247\n",
      "[219]\ttrain-auc:0.822419\teval-auc:0.700233\n",
      "[220]\ttrain-auc:0.822631\teval-auc:0.700227\n",
      "[221]\ttrain-auc:0.822727\teval-auc:0.700266\n",
      "[222]\ttrain-auc:0.822952\teval-auc:0.700258\n",
      "[223]\ttrain-auc:0.823115\teval-auc:0.700269\n",
      "[224]\ttrain-auc:0.823416\teval-auc:0.700237\n",
      "[225]\ttrain-auc:0.823748\teval-auc:0.700174\n",
      "[226]\ttrain-auc:0.823998\teval-auc:0.700238\n",
      "[227]\ttrain-auc:0.824658\teval-auc:0.700267\n",
      "[228]\ttrain-auc:0.824967\teval-auc:0.700346\n",
      "[229]\ttrain-auc:0.825174\teval-auc:0.700397\n",
      "[230]\ttrain-auc:0.82567\teval-auc:0.700333\n",
      "[231]\ttrain-auc:0.826092\teval-auc:0.70038\n",
      "[232]\ttrain-auc:0.826331\teval-auc:0.700401\n",
      "[233]\ttrain-auc:0.826543\teval-auc:0.700374\n",
      "[234]\ttrain-auc:0.827064\teval-auc:0.700247\n",
      "[235]\ttrain-auc:0.827377\teval-auc:0.700367\n",
      "[236]\ttrain-auc:0.827825\teval-auc:0.700489\n",
      "[237]\ttrain-auc:0.828088\teval-auc:0.70031\n",
      "[238]\ttrain-auc:0.828481\teval-auc:0.700244\n",
      "[239]\ttrain-auc:0.828871\teval-auc:0.700164\n",
      "[240]\ttrain-auc:0.829041\teval-auc:0.700169\n",
      "[241]\ttrain-auc:0.829339\teval-auc:0.70022\n",
      "[242]\ttrain-auc:0.829695\teval-auc:0.700269\n",
      "[243]\ttrain-auc:0.830219\teval-auc:0.700344\n",
      "[244]\ttrain-auc:0.830584\teval-auc:0.700349\n",
      "[245]\ttrain-auc:0.830814\teval-auc:0.70037\n",
      "[246]\ttrain-auc:0.831192\teval-auc:0.700351\n",
      "[247]\ttrain-auc:0.831425\teval-auc:0.700345\n",
      "[248]\ttrain-auc:0.831862\teval-auc:0.700289\n",
      "[249]\ttrain-auc:0.832017\teval-auc:0.700256\n",
      "[250]\ttrain-auc:0.832272\teval-auc:0.700182\n",
      "[251]\ttrain-auc:0.832766\teval-auc:0.70015\n",
      "[252]\ttrain-auc:0.833082\teval-auc:0.700179\n",
      "[253]\ttrain-auc:0.833496\teval-auc:0.70019\n",
      "[254]\ttrain-auc:0.833716\teval-auc:0.700144\n",
      "[255]\ttrain-auc:0.834297\teval-auc:0.700062\n",
      "[256]\ttrain-auc:0.834694\teval-auc:0.699978\n",
      "[257]\ttrain-auc:0.83506\teval-auc:0.700028\n",
      "[258]\ttrain-auc:0.835238\teval-auc:0.699961\n",
      "[259]\ttrain-auc:0.835592\teval-auc:0.69991\n",
      "[260]\ttrain-auc:0.836014\teval-auc:0.699914\n",
      "[261]\ttrain-auc:0.836492\teval-auc:0.70002\n",
      "[262]\ttrain-auc:0.836971\teval-auc:0.700009\n",
      "[263]\ttrain-auc:0.83701\teval-auc:0.700002\n",
      "[264]\ttrain-auc:0.837373\teval-auc:0.700065\n",
      "[265]\ttrain-auc:0.837619\teval-auc:0.700074\n",
      "[266]\ttrain-auc:0.837756\teval-auc:0.700178\n",
      "[267]\ttrain-auc:0.837901\teval-auc:0.700201\n",
      "[268]\ttrain-auc:0.838103\teval-auc:0.700242\n",
      "[269]\ttrain-auc:0.838409\teval-auc:0.700129\n",
      "[270]\ttrain-auc:0.838859\teval-auc:0.699968\n",
      "[271]\ttrain-auc:0.839222\teval-auc:0.699911\n",
      "[272]\ttrain-auc:0.839683\teval-auc:0.700003\n",
      "[273]\ttrain-auc:0.840039\teval-auc:0.700078\n",
      "[274]\ttrain-auc:0.840577\teval-auc:0.700044\n",
      "[275]\ttrain-auc:0.84106\teval-auc:0.700041\n",
      "[276]\ttrain-auc:0.841754\teval-auc:0.700052\n",
      "[277]\ttrain-auc:0.842215\teval-auc:0.700144\n",
      "[278]\ttrain-auc:0.84246\teval-auc:0.700081\n",
      "[279]\ttrain-auc:0.84271\teval-auc:0.700134\n",
      "[280]\ttrain-auc:0.842992\teval-auc:0.700043\n",
      "[281]\ttrain-auc:0.843048\teval-auc:0.700004\n",
      "[282]\ttrain-auc:0.843381\teval-auc:0.699962\n",
      "[283]\ttrain-auc:0.843686\teval-auc:0.69994\n",
      "[284]\ttrain-auc:0.84387\teval-auc:0.699852\n",
      "[285]\ttrain-auc:0.844301\teval-auc:0.699864\n",
      "[286]\ttrain-auc:0.844482\teval-auc:0.699883\n",
      "Stopping. Best iteration:\n",
      "[236]\ttrain-auc:0.827825\teval-auc:0.700489\n",
      "\n"
     ]
    }
   ],
   "source": [
    "watchlist = [(dtrain, 'train'), (dvalid, 'eval')]\n",
    "num_boost_round = 1500\n",
    "gbm = xgb.train(params, dtrain, num_boost_round, evals=watchlist,\\\n",
    "  early_stopping_rounds= 50)"
   ]
  },
  {
   "cell_type": "code",
   "execution_count": 96,
   "metadata": {
    "collapsed": true
   },
   "outputs": [],
   "source": [
    "from sklearn.metrics import roc_curve, auc\n",
    "from sklearn import linear_model, datasets\n",
    "import pylab as pl\n",
    "def draw_ROC(model, dtrain, dvalid, dtest, y_train, y_valid, y_test ):\n",
    "    probas_ = model.predict(dvalid, ntree_limit=model.best_ntree_limit)\n",
    "    probas_1 = model.predict(dtrain, ntree_limit=model.best_ntree_limit)\n",
    "    probas_2 = model.predict(dtest, ntree_limit=model.best_ntree_limit)\n",
    "    fpr, tpr, thresholds = roc_curve(y_valid, probas_)\n",
    "    fpr_1, tpr_1, thresholds_1 = roc_curve(y_train, probas_1)\n",
    "    fpr_2, tpr_2, thresholds_2 = roc_curve(y_test, probas_2)\n",
    "    roc_auc = auc(fpr, tpr)\n",
    "    roc_auc_1 = auc(fpr_1, tpr_1)\n",
    "    roc_auc_2 = auc(fpr_2, tpr_2)\n",
    "    print \"Area under the ROC curve - validation: %f\" % roc_auc\n",
    "    print \"Area under the ROC curve - train: %f\" % roc_auc_1\n",
    "    print \"Area under the ROC curve - test: %f\" % roc_auc_2\n",
    "    # Plot ROC curve\n",
    "    plt.figure(figsize=(8,8))\n",
    "    plt.plot(fpr, tpr, label='ROC curve - test(AUC = %0.2f)' % roc_auc, color='r')\n",
    "    plt.plot(fpr_1, tpr_1, label='ROC curve - train (AUC = %0.2f)' % roc_auc_1, color='b')\n",
    "    plt.plot(fpr_2, tpr_2, label='ROC curve - train (AUC = %0.2f)' % roc_auc_2, color='g')\n",
    "    plt.plot([0, 1], [0, 1], 'k--')\n",
    "    plt.xlim([0.0, 1.0])\n",
    "    plt.ylim([0.0, 1.0])\n",
    "    plt.xlabel('False Positive Rate')\n",
    "    plt.ylabel('True Positive Rate')\n",
    "    plt.title('ROC for lead score model')\n",
    "    plt.legend(loc=\"lower right\")\n",
    "    plt.show()\n"
   ]
  },
  {
   "cell_type": "markdown",
   "metadata": {},
   "source": [
    "### ROC curve"
   ]
  },
  {
   "cell_type": "code",
   "execution_count": 97,
   "metadata": {},
   "outputs": [
    {
     "name": "stdout",
     "output_type": "stream",
     "text": [
      "Area under the ROC curve - validation: 0.700489\n",
      "Area under the ROC curve - train: 0.827825\n",
      "Area under the ROC curve - test: 0.712325\n"
     ]
    },
    {
     "data": {
      "image/png": "[encoded data removed]",
      "text/plain": [
       "<matplotlib.figure.Figure at 0x14eef668>"
      ]
     },
     "metadata": {},
     "output_type": "display_data"
    }
   ],
   "source": [
    "draw_ROC(gbm, dtrain, dvalid, dtest, y_train, y_valid, y_test)"
   ]
  },
  {
   "cell_type": "markdown",
   "metadata": {},
   "source": [
    "### Distribution of predicted values"
   ]
  },
  {
   "cell_type": "code",
   "execution_count": 98,
   "metadata": {
    "collapsed": true
   },
   "outputs": [],
   "source": [
    "y_pred = gbm.predict(dtest)"
   ]
  },
  {
   "cell_type": "code",
   "execution_count": 99,
   "metadata": {},
   "outputs": [
    {
     "name": "stdout",
     "output_type": "stream",
     "text": [
      "0.767854 0.00756274 0.175525\n"
     ]
    }
   ],
   "source": [
    "print y_pred.max(), y_pred.min(), y_pred.mean()"
   ]
  },
  {
   "cell_type": "code",
   "execution_count": null,
   "metadata": {
    "collapsed": true
   },
   "outputs": [],
   "source": []
  },
  {
   "cell_type": "markdown",
   "metadata": {},
   "source": [
    "### Feature importance"
   ]
  },
  {
   "cell_type": "code",
   "execution_count": 100,
   "metadata": {
    "collapsed": true
   },
   "outputs": [],
   "source": [
    "importance=gbm.get_fscore()"
   ]
  },
  {
   "cell_type": "code",
   "execution_count": 101,
   "metadata": {
    "collapsed": true
   },
   "outputs": [],
   "source": [
    "df_importance = pd.DataFrame(importance.items(), columns=['feature', 'fscore'])\n",
    "df_importance['fscore'] = df_importance['fscore'] / df_importance['fscore'].sum()"
   ]
  },
  {
   "cell_type": "code",
   "execution_count": 102,
   "metadata": {
    "scrolled": false
   },
   "outputs": [
    {
     "data": {
      "text/html": [
       "<div>\n",
       "<table border=\"1\" class=\"dataframe\">\n",
       "  <thead>\n",
       "    <tr style=\"text-align: right;\">\n",
       "      <th></th>\n",
       "      <th>feature</th>\n",
       "      <th>fscore</th>\n",
       "    </tr>\n",
       "  </thead>\n",
       "  <tbody>\n",
       "    <tr>\n",
       "      <th>66</th>\n",
       "      <td>dti</td>\n",
       "      <td>0.042448</td>\n",
       "    </tr>\n",
       "    <tr>\n",
       "      <th>4</th>\n",
       "      <td>annualinc</td>\n",
       "      <td>0.033534</td>\n",
       "    </tr>\n",
       "    <tr>\n",
       "      <th>69</th>\n",
       "      <td>installment</td>\n",
       "      <td>0.031751</td>\n",
       "    </tr>\n",
       "    <tr>\n",
       "      <th>47</th>\n",
       "      <td>mosinoldrevtlop</td>\n",
       "      <td>0.031242</td>\n",
       "    </tr>\n",
       "    <tr>\n",
       "      <th>3</th>\n",
       "      <td>mosinoldilacct</td>\n",
       "      <td>0.030138</td>\n",
       "    </tr>\n",
       "    <tr>\n",
       "      <th>0</th>\n",
       "      <td>bcopentobuy</td>\n",
       "      <td>0.029969</td>\n",
       "    </tr>\n",
       "    <tr>\n",
       "      <th>44</th>\n",
       "      <td>emptitle_freq</td>\n",
       "      <td>0.029544</td>\n",
       "    </tr>\n",
       "    <tr>\n",
       "      <th>19</th>\n",
       "      <td>avgcurbal</td>\n",
       "      <td>0.026997</td>\n",
       "    </tr>\n",
       "    <tr>\n",
       "      <th>33</th>\n",
       "      <td>zipcode</td>\n",
       "      <td>0.026743</td>\n",
       "    </tr>\n",
       "    <tr>\n",
       "      <th>64</th>\n",
       "      <td>bcutil</td>\n",
       "      <td>0.026743</td>\n",
       "    </tr>\n",
       "    <tr>\n",
       "      <th>26</th>\n",
       "      <td>revolbal</td>\n",
       "      <td>0.026063</td>\n",
       "    </tr>\n",
       "    <tr>\n",
       "      <th>48</th>\n",
       "      <td>zipcode_freq</td>\n",
       "      <td>0.025384</td>\n",
       "    </tr>\n",
       "    <tr>\n",
       "      <th>37</th>\n",
       "      <td>tothicredlim</td>\n",
       "      <td>0.024111</td>\n",
       "    </tr>\n",
       "    <tr>\n",
       "      <th>65</th>\n",
       "      <td>earliestcrline_month</td>\n",
       "      <td>0.024026</td>\n",
       "    </tr>\n",
       "    <tr>\n",
       "      <th>20</th>\n",
       "      <td>mthssincerecentbc</td>\n",
       "      <td>0.023177</td>\n",
       "    </tr>\n",
       "    <tr>\n",
       "      <th>10</th>\n",
       "      <td>totalbalexmort</td>\n",
       "      <td>0.022667</td>\n",
       "    </tr>\n",
       "    <tr>\n",
       "      <th>59</th>\n",
       "      <td>intrate</td>\n",
       "      <td>0.021988</td>\n",
       "    </tr>\n",
       "    <tr>\n",
       "      <th>5</th>\n",
       "      <td>revolutil</td>\n",
       "      <td>0.021649</td>\n",
       "    </tr>\n",
       "    <tr>\n",
       "      <th>45</th>\n",
       "      <td>totalrevhilim</td>\n",
       "      <td>0.021224</td>\n",
       "    </tr>\n",
       "    <tr>\n",
       "      <th>34</th>\n",
       "      <td>mthssincelastdelinq</td>\n",
       "      <td>0.020885</td>\n",
       "    </tr>\n",
       "    <tr>\n",
       "      <th>38</th>\n",
       "      <td>totalilhighcreditlimit</td>\n",
       "      <td>0.020545</td>\n",
       "    </tr>\n",
       "    <tr>\n",
       "      <th>9</th>\n",
       "      <td>totcurbal</td>\n",
       "      <td>0.019781</td>\n",
       "    </tr>\n",
       "    <tr>\n",
       "      <th>53</th>\n",
       "      <td>totalbclimit</td>\n",
       "      <td>0.019441</td>\n",
       "    </tr>\n",
       "    <tr>\n",
       "      <th>50</th>\n",
       "      <td>mthssincerecentinq</td>\n",
       "      <td>0.019272</td>\n",
       "    </tr>\n",
       "    <tr>\n",
       "      <th>54</th>\n",
       "      <td>loanamnt</td>\n",
       "      <td>0.017574</td>\n",
       "    </tr>\n",
       "    <tr>\n",
       "      <th>74</th>\n",
       "      <td>accopenpast24mths</td>\n",
       "      <td>0.016725</td>\n",
       "    </tr>\n",
       "    <tr>\n",
       "      <th>61</th>\n",
       "      <td>emplength</td>\n",
       "      <td>0.016555</td>\n",
       "    </tr>\n",
       "    <tr>\n",
       "      <th>77</th>\n",
       "      <td>mosinrcntrevtlop</td>\n",
       "      <td>0.016215</td>\n",
       "    </tr>\n",
       "    <tr>\n",
       "      <th>67</th>\n",
       "      <td>mthssincerecentbcdlq</td>\n",
       "      <td>0.015536</td>\n",
       "    </tr>\n",
       "    <tr>\n",
       "      <th>12</th>\n",
       "      <td>subgrade</td>\n",
       "      <td>0.015027</td>\n",
       "    </tr>\n",
       "    <tr>\n",
       "      <th>...</th>\n",
       "      <td>...</td>\n",
       "      <td>...</td>\n",
       "    </tr>\n",
       "    <tr>\n",
       "      <th>23</th>\n",
       "      <td>mortacc</td>\n",
       "      <td>0.005688</td>\n",
       "    </tr>\n",
       "    <tr>\n",
       "      <th>6</th>\n",
       "      <td>grade</td>\n",
       "      <td>0.004924</td>\n",
       "    </tr>\n",
       "    <tr>\n",
       "      <th>21</th>\n",
       "      <td>homeownership_RENT</td>\n",
       "      <td>0.004669</td>\n",
       "    </tr>\n",
       "    <tr>\n",
       "      <th>1</th>\n",
       "      <td>delinq2yrs</td>\n",
       "      <td>0.003820</td>\n",
       "    </tr>\n",
       "    <tr>\n",
       "      <th>60</th>\n",
       "      <td>ficorangelow</td>\n",
       "      <td>0.003141</td>\n",
       "    </tr>\n",
       "    <tr>\n",
       "      <th>11</th>\n",
       "      <td>initialliststatus_f</td>\n",
       "      <td>0.002886</td>\n",
       "    </tr>\n",
       "    <tr>\n",
       "      <th>32</th>\n",
       "      <td>numacctsever120pd</td>\n",
       "      <td>0.002717</td>\n",
       "    </tr>\n",
       "    <tr>\n",
       "      <th>29</th>\n",
       "      <td>verificationstatus_Source Verified</td>\n",
       "      <td>0.002547</td>\n",
       "    </tr>\n",
       "    <tr>\n",
       "      <th>68</th>\n",
       "      <td>verificationstatus_Not Verified</td>\n",
       "      <td>0.002038</td>\n",
       "    </tr>\n",
       "    <tr>\n",
       "      <th>58</th>\n",
       "      <td>homeownership_MORTGAGE</td>\n",
       "      <td>0.001953</td>\n",
       "    </tr>\n",
       "    <tr>\n",
       "      <th>56</th>\n",
       "      <td>purpose_debt_consolidation</td>\n",
       "      <td>0.001953</td>\n",
       "    </tr>\n",
       "    <tr>\n",
       "      <th>51</th>\n",
       "      <td>verificationstatus_Verified</td>\n",
       "      <td>0.001698</td>\n",
       "    </tr>\n",
       "    <tr>\n",
       "      <th>73</th>\n",
       "      <td>pubrec</td>\n",
       "      <td>0.001273</td>\n",
       "    </tr>\n",
       "    <tr>\n",
       "      <th>17</th>\n",
       "      <td>purpose_small_business</td>\n",
       "      <td>0.001104</td>\n",
       "    </tr>\n",
       "    <tr>\n",
       "      <th>81</th>\n",
       "      <td>pubrecbankruptcies</td>\n",
       "      <td>0.001019</td>\n",
       "    </tr>\n",
       "    <tr>\n",
       "      <th>14</th>\n",
       "      <td>purpose_medical</td>\n",
       "      <td>0.001019</td>\n",
       "    </tr>\n",
       "    <tr>\n",
       "      <th>24</th>\n",
       "      <td>initialliststatus_w</td>\n",
       "      <td>0.000934</td>\n",
       "    </tr>\n",
       "    <tr>\n",
       "      <th>18</th>\n",
       "      <td>purpose_major_purchase</td>\n",
       "      <td>0.000849</td>\n",
       "    </tr>\n",
       "    <tr>\n",
       "      <th>43</th>\n",
       "      <td>numtl90gdpd24m</td>\n",
       "      <td>0.000849</td>\n",
       "    </tr>\n",
       "    <tr>\n",
       "      <th>79</th>\n",
       "      <td>homeownership_OWN</td>\n",
       "      <td>0.000764</td>\n",
       "    </tr>\n",
       "    <tr>\n",
       "      <th>25</th>\n",
       "      <td>taxliens</td>\n",
       "      <td>0.000594</td>\n",
       "    </tr>\n",
       "    <tr>\n",
       "      <th>30</th>\n",
       "      <td>purpose_credit_card</td>\n",
       "      <td>0.000594</td>\n",
       "    </tr>\n",
       "    <tr>\n",
       "      <th>16</th>\n",
       "      <td>numtl120dpd2m</td>\n",
       "      <td>0.000424</td>\n",
       "    </tr>\n",
       "    <tr>\n",
       "      <th>62</th>\n",
       "      <td>purpose_other</td>\n",
       "      <td>0.000424</td>\n",
       "    </tr>\n",
       "    <tr>\n",
       "      <th>22</th>\n",
       "      <td>purpose_home_improvement</td>\n",
       "      <td>0.000340</td>\n",
       "    </tr>\n",
       "    <tr>\n",
       "      <th>42</th>\n",
       "      <td>chargeoffwithin12mths</td>\n",
       "      <td>0.000255</td>\n",
       "    </tr>\n",
       "    <tr>\n",
       "      <th>71</th>\n",
       "      <td>purpose_moving</td>\n",
       "      <td>0.000170</td>\n",
       "    </tr>\n",
       "    <tr>\n",
       "      <th>55</th>\n",
       "      <td>accnowdelinq</td>\n",
       "      <td>0.000170</td>\n",
       "    </tr>\n",
       "    <tr>\n",
       "      <th>40</th>\n",
       "      <td>purpose_vacation</td>\n",
       "      <td>0.000085</td>\n",
       "    </tr>\n",
       "    <tr>\n",
       "      <th>39</th>\n",
       "      <td>collections12mthsexmed</td>\n",
       "      <td>0.000085</td>\n",
       "    </tr>\n",
       "  </tbody>\n",
       "</table>\n",
       "<p>82 rows × 2 columns</p>\n",
       "</div>"
      ],
      "text/plain": [
       "                               feature    fscore\n",
       "66                                 dti  0.042448\n",
       "4                            annualinc  0.033534\n",
       "69                         installment  0.031751\n",
       "47                     mosinoldrevtlop  0.031242\n",
       "3                       mosinoldilacct  0.030138\n",
       "0                          bcopentobuy  0.029969\n",
       "44                       emptitle_freq  0.029544\n",
       "19                           avgcurbal  0.026997\n",
       "33                             zipcode  0.026743\n",
       "64                              bcutil  0.026743\n",
       "26                            revolbal  0.026063\n",
       "48                        zipcode_freq  0.025384\n",
       "37                        tothicredlim  0.024111\n",
       "65                earliestcrline_month  0.024026\n",
       "20                   mthssincerecentbc  0.023177\n",
       "10                      totalbalexmort  0.022667\n",
       "59                             intrate  0.021988\n",
       "5                            revolutil  0.021649\n",
       "45                       totalrevhilim  0.021224\n",
       "34                 mthssincelastdelinq  0.020885\n",
       "38              totalilhighcreditlimit  0.020545\n",
       "9                            totcurbal  0.019781\n",
       "53                        totalbclimit  0.019441\n",
       "50                  mthssincerecentinq  0.019272\n",
       "54                            loanamnt  0.017574\n",
       "74                   accopenpast24mths  0.016725\n",
       "61                           emplength  0.016555\n",
       "77                    mosinrcntrevtlop  0.016215\n",
       "67                mthssincerecentbcdlq  0.015536\n",
       "12                            subgrade  0.015027\n",
       "..                                 ...       ...\n",
       "23                             mortacc  0.005688\n",
       "6                                grade  0.004924\n",
       "21                  homeownership_RENT  0.004669\n",
       "1                           delinq2yrs  0.003820\n",
       "60                        ficorangelow  0.003141\n",
       "11                 initialliststatus_f  0.002886\n",
       "32                   numacctsever120pd  0.002717\n",
       "29  verificationstatus_Source Verified  0.002547\n",
       "68     verificationstatus_Not Verified  0.002038\n",
       "58              homeownership_MORTGAGE  0.001953\n",
       "56          purpose_debt_consolidation  0.001953\n",
       "51         verificationstatus_Verified  0.001698\n",
       "73                              pubrec  0.001273\n",
       "17              purpose_small_business  0.001104\n",
       "81                  pubrecbankruptcies  0.001019\n",
       "14                     purpose_medical  0.001019\n",
       "24                 initialliststatus_w  0.000934\n",
       "18              purpose_major_purchase  0.000849\n",
       "43                      numtl90gdpd24m  0.000849\n",
       "79                   homeownership_OWN  0.000764\n",
       "25                            taxliens  0.000594\n",
       "30                 purpose_credit_card  0.000594\n",
       "16                       numtl120dpd2m  0.000424\n",
       "62                       purpose_other  0.000424\n",
       "22            purpose_home_improvement  0.000340\n",
       "42               chargeoffwithin12mths  0.000255\n",
       "71                      purpose_moving  0.000170\n",
       "55                        accnowdelinq  0.000170\n",
       "40                    purpose_vacation  0.000085\n",
       "39              collections12mthsexmed  0.000085\n",
       "\n",
       "[82 rows x 2 columns]"
      ]
     },
     "execution_count": 102,
     "metadata": {},
     "output_type": "execute_result"
    }
   ],
   "source": [
    "df_importance.sort_values(['fscore'], ascending=False, inplace=True)\n",
    "df_importance"
   ]
  },
  {
   "cell_type": "code",
   "execution_count": 103,
   "metadata": {},
   "outputs": [
    {
     "data": {
      "text/plain": [
       "<matplotlib.figure.Figure at 0x189f9c18>"
      ]
     },
     "metadata": {},
     "output_type": "display_data"
    },
    {
     "data": {
      "image/png": "[encoded data removed]",
      "text/plain": [
       "<matplotlib.figure.Figure at 0x189d5240>"
      ]
     },
     "metadata": {},
     "output_type": "display_data"
    }
   ],
   "source": [
    "plt.figure(figsize=(32, 32))\n",
    "# df_importance.plot()\n",
    "df_importance[:20].plot(kind='barh', x='feature', y='fscore', legend=False, figsize=(6, 10))\n",
    "plt.title('XGBoost Feature Importance')\n",
    "plt.xlabel('relative importance')\n",
    "plt.gcf().savefig('feature_importance_xgb.png')"
   ]
  },
  {
   "cell_type": "code",
   "execution_count": 104,
   "metadata": {},
   "outputs": [
    {
     "data": {
      "text/html": [
       "<div>\n",
       "<table border=\"1\" class=\"dataframe\">\n",
       "  <thead>\n",
       "    <tr style=\"text-align: right;\">\n",
       "      <th></th>\n",
       "      <th>feature</th>\n",
       "      <th>fscore</th>\n",
       "    </tr>\n",
       "  </thead>\n",
       "  <tbody>\n",
       "    <tr>\n",
       "      <th>6</th>\n",
       "      <td>grade</td>\n",
       "      <td>0.004924</td>\n",
       "    </tr>\n",
       "  </tbody>\n",
       "</table>\n",
       "</div>"
      ],
      "text/plain": [
       "  feature    fscore\n",
       "6   grade  0.004924"
      ]
     },
     "execution_count": 104,
     "metadata": {},
     "output_type": "execute_result"
    }
   ],
   "source": [
    "grade_importance = df_importance.query(\"feature=='grade'\")\n",
    "grade_importance"
   ]
  },
  {
   "cell_type": "code",
   "execution_count": 105,
   "metadata": {},
   "outputs": [
    {
     "data": {
      "text/html": [
       "<div>\n",
       "<table border=\"1\" class=\"dataframe\">\n",
       "  <thead>\n",
       "    <tr style=\"text-align: right;\">\n",
       "      <th></th>\n",
       "      <th>feature</th>\n",
       "      <th>fscore</th>\n",
       "    </tr>\n",
       "  </thead>\n",
       "  <tbody>\n",
       "    <tr>\n",
       "      <th>12</th>\n",
       "      <td>subgrade</td>\n",
       "      <td>0.015027</td>\n",
       "    </tr>\n",
       "  </tbody>\n",
       "</table>\n",
       "</div>"
      ],
      "text/plain": [
       "     feature    fscore\n",
       "12  subgrade  0.015027"
      ]
     },
     "execution_count": 105,
     "metadata": {},
     "output_type": "execute_result"
    }
   ],
   "source": [
    "subgrade_importance = df_importance.query(\"feature=='subgrade'\")\n",
    "subgrade_importance"
   ]
  },
  {
   "cell_type": "code",
   "execution_count": 106,
   "metadata": {},
   "outputs": [
    {
     "data": {
      "text/html": [
       "<div>\n",
       "<table border=\"1\" class=\"dataframe\">\n",
       "  <thead>\n",
       "    <tr style=\"text-align: right;\">\n",
       "      <th></th>\n",
       "      <th>feature</th>\n",
       "      <th>fscore</th>\n",
       "    </tr>\n",
       "  </thead>\n",
       "  <tbody>\n",
       "    <tr>\n",
       "      <th>59</th>\n",
       "      <td>intrate</td>\n",
       "      <td>0.021988</td>\n",
       "    </tr>\n",
       "  </tbody>\n",
       "</table>\n",
       "</div>"
      ],
      "text/plain": [
       "    feature    fscore\n",
       "59  intrate  0.021988"
      ]
     },
     "execution_count": 106,
     "metadata": {},
     "output_type": "execute_result"
    }
   ],
   "source": [
    "intrate_importance = df_importance.query(\"feature=='intrate'\")\n",
    "intrate_importance"
   ]
  },
  {
   "cell_type": "code",
   "execution_count": 107,
   "metadata": {},
   "outputs": [
    {
     "data": {
      "text/html": [
       "<div>\n",
       "<table border=\"1\" class=\"dataframe\">\n",
       "  <thead>\n",
       "    <tr style=\"text-align: right;\">\n",
       "      <th></th>\n",
       "      <th>feature</th>\n",
       "      <th>fscore</th>\n",
       "    </tr>\n",
       "  </thead>\n",
       "  <tbody>\n",
       "    <tr>\n",
       "      <th>54</th>\n",
       "      <td>loanamnt</td>\n",
       "      <td>0.017574</td>\n",
       "    </tr>\n",
       "  </tbody>\n",
       "</table>\n",
       "</div>"
      ],
      "text/plain": [
       "     feature    fscore\n",
       "54  loanamnt  0.017574"
      ]
     },
     "execution_count": 107,
     "metadata": {},
     "output_type": "execute_result"
    }
   ],
   "source": [
    "df_importance.query(\"feature=='loanamnt'\")"
   ]
  },
  {
   "cell_type": "code",
   "execution_count": 108,
   "metadata": {},
   "outputs": [
    {
     "data": {
      "text/plain": [
       "<matplotlib.text.Text at 0x14eef710>"
      ]
     },
     "execution_count": 108,
     "metadata": {},
     "output_type": "execute_result"
    },
    {
     "data": {
      "text/plain": [
       "<matplotlib.figure.Figure at 0x11086780>"
      ]
     },
     "metadata": {},
     "output_type": "display_data"
    },
    {
     "data": {
      "image/png": "[encoded data removed]",
      "text/plain": [
       "<matplotlib.figure.Figure at 0x14eef4e0>"
      ]
     },
     "metadata": {},
     "output_type": "display_data"
    }
   ],
   "source": [
    "plt.figure(figsize=(32, 32))\n",
    "# df_importance.plot()\n",
    "df_importance.plot(kind='barh', x='feature', y='fscore', legend=False, figsize=(6, 10))\n",
    "plt.title('XGBoost Feature Importance')\n",
    "plt.xlabel('relative importance')"
   ]
  },
  {
   "cell_type": "markdown",
   "metadata": {},
   "source": [
    "## Save model"
   ]
  },
  {
   "cell_type": "code",
   "execution_count": 109,
   "metadata": {
    "collapsed": true
   },
   "outputs": [],
   "source": [
    "import pickle"
   ]
  },
  {
   "cell_type": "code",
   "execution_count": 110,
   "metadata": {
    "collapsed": true
   },
   "outputs": [],
   "source": [
    "pickle.dump(gbm, open('model.pkl', \"wb\"))"
   ]
  },
  {
   "cell_type": "code",
   "execution_count": 111,
   "metadata": {},
   "outputs": [
    {
     "data": {
      "text/plain": [
       "['pima.joblib.dat']"
      ]
     },
     "execution_count": 111,
     "metadata": {},
     "output_type": "execute_result"
    }
   ],
   "source": [
    "from sklearn.externals import joblib\n",
    "joblib.dump(gb\\and 2\")"
   ]
  },
  {
   "cell_type": "code",
   "execution_count": null,
   "metadata": {
    "collapsed": true
   },
   "outputs": [],
   "source": [
    "with open('model.pkl', 'w') as outfile:\n",
    "  \n",
    "    pickle.dump(gbm, outfile)"
   ]
  }
 ],
 "metadata": {
  "anaconda-cloud": {},
  "kernelspec": {
   "display_name": "Python 2",
   "language": "python",
   "name": "python2"
  },
  "language_info": {
   "codemirror_mode": {
    "name": "ipython",
    "version": 2
   },
   "file_extension": ".py",
   "mimetype": "text/x-python",
   "name": "python",
   "nbconvert_exporter": "python",
   "pygments_lexer": "ipython2",
   "version": "2.7.13"
  },
  "toc": {
   "nav_menu": {},
   "number_sections": true,
   "sideBar": true,
   "skip_h1_title": false,
   "toc_cell": false,
   "toc_position": {},
   "toc_section_display": "block",
   "toc_window_display": false
  }
 },
 "nbformat": 4,
 "nbformat_minor": 1
}
